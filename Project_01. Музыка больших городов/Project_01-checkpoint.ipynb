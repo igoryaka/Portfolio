{
 "cells": [
  {
   "cell_type": "markdown",
   "metadata": {
    "id": "E0vqbgi9ay0H"
   },
   "source": [
    "# Яндекс.Музыка"
   ]
  },
  {
   "cell_type": "markdown",
   "metadata": {
    "id": "VUC88oWjTJw2"
   },
   "source": [
    "Сравнение Москвы и Петербурга окружено мифами. Например:\n",
    " * Москва — мегаполис, подчинённый жёсткому ритму рабочей недели;\n",
    " * Петербург — культурная столица, со своими вкусами.\n",
    "\n",
    "На данных Яндекс.Музыки вы сравните поведение пользователей двух столиц.\n",
    "\n",
    "**Цель исследования** — проверьте три гипотезы:\n",
    "1. Активность пользователей зависит от дня недели. Причём в Москве и Петербурге это проявляется по-разному.\n",
    "2. В понедельник утром в Москве преобладают одни жанры, а в Петербурге — другие. Так же и вечером пятницы преобладают разные жанры — в зависимости от города. \n",
    "3. Москва и Петербург предпочитают разные жанры музыки. В Москве чаще слушают поп-музыку, в Петербурге — русский рэп.\n",
    "\n",
    "**Ход исследования**\n",
    "\n",
    "Данные о поведении пользователей вы получите из файла `yandex_music_project.csv`. О качестве данных ничего не известно. Поэтому перед проверкой гипотез понадобится обзор данных. \n",
    "\n",
    "Вы проверите данные на ошибки и оцените их влияние на исследование. Затем, на этапе предобработки вы поищете возможность исправить самые критичные ошибки данных.\n",
    " \n",
    "Таким образом, исследование пройдёт в три этапа:\n",
    " 1. Обзор данных.\n",
    " 2. Предобработка данных.\n",
    " 3. Проверка гипотез.\n",
    "\n"
   ]
  },
  {
   "cell_type": "markdown",
   "metadata": {
    "id": "Ml1hmfXC_Zcs"
   },
   "source": [
    "## Обзор данных\n",
    "\n",
    "Составьте первое представление о данных Яндекс.Музыки.\n",
    "\n",
    "\n"
   ]
  },
  {
   "cell_type": "markdown",
   "metadata": {
    "id": "57eAOGIz_Zcs"
   },
   "source": [
    "Основной инструмент аналитика — `pandas`. Импортируйте эту библиотеку."
   ]
  },
  {
   "cell_type": "code",
   "execution_count": 1,
   "metadata": {
    "id": "AXN7PHPN_Zcs"
   },
   "outputs": [],
   "source": [
    "import pandas as pd  # импорт библиотеки pandas"
   ]
  },
  {
   "cell_type": "markdown",
   "metadata": {
    "id": "SG23P8tt_Zcs"
   },
   "source": [
    "Прочитайте файл `yandex_music_project.csv` из папки `/datasets` и сохраните его в переменной `df`:"
   ]
  },
  {
   "cell_type": "code",
   "execution_count": 6,
   "metadata": {
    "id": "fFVu7vqh_Zct"
   },
   "outputs": [],
   "source": [
    "df = pd.read_csv('dataset.csv') # чтение файла с данными и сохранение в df"
   ]
  },
  {
   "cell_type": "markdown",
   "metadata": {
    "id": "rDoOMd3uTqnZ"
   },
   "source": [
    "Выведите на экран первые десять строк таблицы:"
   ]
  },
  {
   "cell_type": "code",
   "execution_count": 7,
   "metadata": {
    "id": "oWTVX3gW_Zct"
   },
   "outputs": [
    {
     "data": {
      "text/html": [
       "<div>\n",
       "<style scoped>\n",
       "    .dataframe tbody tr th:only-of-type {\n",
       "        vertical-align: middle;\n",
       "    }\n",
       "\n",
       "    .dataframe tbody tr th {\n",
       "        vertical-align: top;\n",
       "    }\n",
       "\n",
       "    .dataframe thead th {\n",
       "        text-align: right;\n",
       "    }\n",
       "</style>\n",
       "<table border=\"1\" class=\"dataframe\">\n",
       "  <thead>\n",
       "    <tr style=\"text-align: right;\">\n",
       "      <th></th>\n",
       "      <th>Unnamed: 0</th>\n",
       "      <th>userID</th>\n",
       "      <th>Track</th>\n",
       "      <th>artist</th>\n",
       "      <th>genre</th>\n",
       "      <th>City</th>\n",
       "      <th>time</th>\n",
       "      <th>Day</th>\n",
       "    </tr>\n",
       "  </thead>\n",
       "  <tbody>\n",
       "    <tr>\n",
       "      <th>0</th>\n",
       "      <td>0</td>\n",
       "      <td>FFB692EC</td>\n",
       "      <td>Kamigata To Boots</td>\n",
       "      <td>The Mass Missile</td>\n",
       "      <td>rock</td>\n",
       "      <td>Saint-Petersburg</td>\n",
       "      <td>20:28:33</td>\n",
       "      <td>Wednesday</td>\n",
       "    </tr>\n",
       "    <tr>\n",
       "      <th>1</th>\n",
       "      <td>1</td>\n",
       "      <td>55204538</td>\n",
       "      <td>Delayed Because of Accident</td>\n",
       "      <td>Andreas Rönnberg</td>\n",
       "      <td>rock</td>\n",
       "      <td>Moscow</td>\n",
       "      <td>14:07:09</td>\n",
       "      <td>Friday</td>\n",
       "    </tr>\n",
       "    <tr>\n",
       "      <th>2</th>\n",
       "      <td>2</td>\n",
       "      <td>20EC38</td>\n",
       "      <td>Funiculì funiculà</td>\n",
       "      <td>Mario Lanza</td>\n",
       "      <td>pop</td>\n",
       "      <td>Saint-Petersburg</td>\n",
       "      <td>20:58:07</td>\n",
       "      <td>Wednesday</td>\n",
       "    </tr>\n",
       "    <tr>\n",
       "      <th>3</th>\n",
       "      <td>3</td>\n",
       "      <td>A3DD03C9</td>\n",
       "      <td>Dragons in the Sunset</td>\n",
       "      <td>Fire + Ice</td>\n",
       "      <td>folk</td>\n",
       "      <td>Saint-Petersburg</td>\n",
       "      <td>08:37:09</td>\n",
       "      <td>Monday</td>\n",
       "    </tr>\n",
       "    <tr>\n",
       "      <th>4</th>\n",
       "      <td>4</td>\n",
       "      <td>E2DC1FAE</td>\n",
       "      <td>Soul People</td>\n",
       "      <td>Space Echo</td>\n",
       "      <td>dance</td>\n",
       "      <td>Moscow</td>\n",
       "      <td>08:34:34</td>\n",
       "      <td>Monday</td>\n",
       "    </tr>\n",
       "    <tr>\n",
       "      <th>5</th>\n",
       "      <td>5</td>\n",
       "      <td>842029A1</td>\n",
       "      <td>Преданная</td>\n",
       "      <td>IMPERVTOR</td>\n",
       "      <td>rusrap</td>\n",
       "      <td>Saint-Petersburg</td>\n",
       "      <td>13:09:41</td>\n",
       "      <td>Friday</td>\n",
       "    </tr>\n",
       "    <tr>\n",
       "      <th>6</th>\n",
       "      <td>6</td>\n",
       "      <td>4CB90AA5</td>\n",
       "      <td>True</td>\n",
       "      <td>Roman Messer</td>\n",
       "      <td>dance</td>\n",
       "      <td>Moscow</td>\n",
       "      <td>13:00:07</td>\n",
       "      <td>Wednesday</td>\n",
       "    </tr>\n",
       "    <tr>\n",
       "      <th>7</th>\n",
       "      <td>7</td>\n",
       "      <td>F03E1C1F</td>\n",
       "      <td>Feeling This Way</td>\n",
       "      <td>Polina Griffith</td>\n",
       "      <td>dance</td>\n",
       "      <td>Moscow</td>\n",
       "      <td>20:47:49</td>\n",
       "      <td>Wednesday</td>\n",
       "    </tr>\n",
       "    <tr>\n",
       "      <th>8</th>\n",
       "      <td>8</td>\n",
       "      <td>8FA1D3BE</td>\n",
       "      <td>И вновь продолжается бой</td>\n",
       "      <td>NaN</td>\n",
       "      <td>ruspop</td>\n",
       "      <td>Moscow</td>\n",
       "      <td>09:17:40</td>\n",
       "      <td>Friday</td>\n",
       "    </tr>\n",
       "    <tr>\n",
       "      <th>9</th>\n",
       "      <td>9</td>\n",
       "      <td>E772D5C0</td>\n",
       "      <td>Pessimist</td>\n",
       "      <td>NaN</td>\n",
       "      <td>dance</td>\n",
       "      <td>Saint-Petersburg</td>\n",
       "      <td>21:20:49</td>\n",
       "      <td>Wednesday</td>\n",
       "    </tr>\n",
       "  </tbody>\n",
       "</table>\n",
       "</div>"
      ],
      "text/plain": [
       "   Unnamed: 0    userID                        Track            artist  \\\n",
       "0           0  FFB692EC            Kamigata To Boots  The Mass Missile   \n",
       "1           1  55204538  Delayed Because of Accident  Andreas Rönnberg   \n",
       "2           2    20EC38            Funiculì funiculà       Mario Lanza   \n",
       "3           3  A3DD03C9        Dragons in the Sunset        Fire + Ice   \n",
       "4           4  E2DC1FAE                  Soul People        Space Echo   \n",
       "5           5  842029A1                    Преданная         IMPERVTOR   \n",
       "6           6  4CB90AA5                         True      Roman Messer   \n",
       "7           7  F03E1C1F             Feeling This Way   Polina Griffith   \n",
       "8           8  8FA1D3BE     И вновь продолжается бой               NaN   \n",
       "9           9  E772D5C0                    Pessimist               NaN   \n",
       "\n",
       "    genre            City        time        Day  \n",
       "0    rock  Saint-Petersburg  20:28:33  Wednesday  \n",
       "1    rock            Moscow  14:07:09     Friday  \n",
       "2     pop  Saint-Petersburg  20:58:07  Wednesday  \n",
       "3    folk  Saint-Petersburg  08:37:09     Monday  \n",
       "4   dance            Moscow  08:34:34     Monday  \n",
       "5  rusrap  Saint-Petersburg  13:09:41     Friday  \n",
       "6   dance            Moscow  13:00:07  Wednesday  \n",
       "7   dance            Moscow  20:47:49  Wednesday  \n",
       "8  ruspop            Moscow  09:17:40     Friday  \n",
       "9   dance  Saint-Petersburg  21:20:49  Wednesday  "
      ]
     },
     "metadata": {},
     "output_type": "display_data"
    }
   ],
   "source": [
    "display(df.head(10))# получение первых 10 строк таблицы df"
   ]
  },
  {
   "cell_type": "markdown",
   "metadata": {
    "id": "EO73Kwic_Zct"
   },
   "source": [
    "Одной командой получить общую информацию о таблице:"
   ]
  },
  {
   "cell_type": "code",
   "execution_count": 62,
   "metadata": {
    "id": "DSf2kIb-_Zct"
   },
   "outputs": [
    {
     "name": "stdout",
     "output_type": "stream",
     "text": [
      "<class 'pandas.core.frame.DataFrame'>\n",
      "RangeIndex: 65079 entries, 0 to 65078\n",
      "Data columns (total 7 columns):\n",
      " #   Column    Non-Null Count  Dtype \n",
      "---  ------    --------------  ----- \n",
      " 0     userID  65079 non-null  object\n",
      " 1   Track     63848 non-null  object\n",
      " 2   artist    57876 non-null  object\n",
      " 3   genre     63881 non-null  object\n",
      " 4     City    65079 non-null  object\n",
      " 5   time      65079 non-null  object\n",
      " 6   Day       65079 non-null  object\n",
      "dtypes: object(7)\n",
      "memory usage: 3.5+ MB\n"
     ]
    }
   ],
   "source": [
    "df.info()# получение общей информации о данных в таблице df\n",
    "#userID лучше записать user_id, третья проблема что слитно написано, а не через нижнее подчёркивание. "
   ]
  },
  {
   "cell_type": "markdown",
   "metadata": {
    "id": "TaQ2Iwbr_Zct"
   },
   "source": [
    "Итак, в таблице семь столбцов. Тип данных во всех столбцах — `object`.\n",
    "\n",
    "Согласно документации к данным:\n",
    "* `userID` — идентификатор пользователя;\n",
    "* `Track` — название трека;  \n",
    "* `artist` — имя исполнителя;\n",
    "* `genre` — название жанра;\n",
    "* `City` — город пользователя;\n",
    "* `time` — время начала прослушивания;\n",
    "* `Day` — день недели.\n",
    "\n",
    "В названиях колонок видны три нарушения стиля:\n",
    "1. Строчные буквы сочетаются с прописными.\n",
    "2. Встречаются пробелы.<b>\n",
    "3. userID лучше записать user_id, третья проблема что слитно написано, а не через нижнее подчёркивание. </b>\n",
    "\n",
    "\n",
    "\n",
    "Количество значений в столбцах различается. Значит, в данных есть пропущенные значения.\n"
   ]
  },
  {
   "cell_type": "markdown",
   "metadata": {
    "id": "MCB6-dXG_Zct"
   },
   "source": [
    "**Выводы**\n",
    "\n",
    "В каждой строке таблицы — данные о прослушанном треке. Часть колонок описывает саму композицию: название, исполнителя и жанр. Остальные данные рассказывают о пользователе: из какого он города, когда он слушал музыку. \n",
    "\n",
    "Предварительно можно утверждать, что, данных достаточно для проверки гипотез. Но встречаются пропуски в данных, а в названиях колонок — расхождения с хорошим стилем.\n",
    "\n",
    "Чтобы двигаться дальше, нужно устранить проблемы в данных."
   ]
  },
  {
   "cell_type": "markdown",
   "metadata": {
    "id": "SjYF6Ub9_Zct"
   },
   "source": [
    "## Предобработка данных\n",
    "Исправьте стиль в заголовках столбцов, исключите пропуски. Затем проверьте данные на дубликаты."
   ]
  },
  {
   "cell_type": "markdown",
   "metadata": {
    "id": "dIaKXr29_Zct"
   },
   "source": [
    "### Стиль заголовков\n",
    "Выведите на экран названия столбцов:"
   ]
  },
  {
   "cell_type": "code",
   "execution_count": 63,
   "metadata": {
    "id": "oKOTdF_Q_Zct"
   },
   "outputs": [
    {
     "data": {
      "text/plain": [
       "Index(['  userID', 'Track', 'artist', 'genre', '  City  ', 'time', 'Day'], dtype='object')"
      ]
     },
     "execution_count": 63,
     "metadata": {},
     "output_type": "execute_result"
    }
   ],
   "source": [
    "df.columns# перечень названий столбцов таблицы df"
   ]
  },
  {
   "cell_type": "code",
   "execution_count": 64,
   "metadata": {},
   "outputs": [
    {
     "data": {
      "text/plain": [
       "Index(['  userID', 'Track', 'artist', 'genre', '  City  ', 'time', 'Day'], dtype='object')"
      ]
     },
     "execution_count": 64,
     "metadata": {},
     "output_type": "execute_result"
    }
   ],
   "source": [
    "df.columns"
   ]
  },
  {
   "cell_type": "markdown",
   "metadata": {
    "id": "zj5534cv_Zct"
   },
   "source": [
    "Приведите названия в соответствие с хорошим стилем:\n",
    "* несколько слов в названии запишите в «змеином_регистре»,\n",
    "* все символы сделайте строчными,\n",
    "* устраните пробелы.\n",
    "\n",
    "Для этого переименуйте колонки так:\n",
    "* `'  userID'` → `'user_id'`;\n",
    "* `'Track'` → `'track'`;\n",
    "* `'  City  '` → `'city'`;\n",
    "* `'Day'` → `'day'`."
   ]
  },
  {
   "cell_type": "code",
   "execution_count": 65,
   "metadata": {
    "id": "ISlFqs5y_Zct"
   },
   "outputs": [],
   "source": [
    "df = df.rename(columns = {'  userID': 'user_id', 'Track': 'track', '  City  ': 'city', 'Day': 'day'})# переименование столбцов"
   ]
  },
  {
   "cell_type": "markdown",
   "metadata": {
    "id": "1dqbh00J_Zct"
   },
   "source": [
    "Проверьте результат. Для этого ещё раз выведите на экран названия столбцов:"
   ]
  },
  {
   "cell_type": "code",
   "execution_count": 66,
   "metadata": {
    "id": "d4NOAmTW_Zct"
   },
   "outputs": [
    {
     "name": "stdout",
     "output_type": "stream",
     "text": [
      "Index(['user_id', 'track', 'artist', 'genre', 'city', 'time', 'day'], dtype='object')\n"
     ]
    }
   ],
   "source": [
    "print(df.columns)# проверка результатов - перечень названий столбцов"
   ]
  },
  {
   "cell_type": "markdown",
   "metadata": {
    "id": "5ISfbcfY_Zct"
   },
   "source": [
    "### Пропуски значений\n",
    "Сначала посчитайте, сколько в таблице пропущенных значений. Для этого достаточно двух методов `pandas`:"
   ]
  },
  {
   "cell_type": "code",
   "execution_count": 67,
   "metadata": {
    "id": "RskX29qr_Zct"
   },
   "outputs": [
    {
     "name": "stdout",
     "output_type": "stream",
     "text": [
      "user_id       0\n",
      "track      1231\n",
      "artist     7203\n",
      "genre      1198\n",
      "city          0\n",
      "time          0\n",
      "day           0\n",
      "dtype: int64\n"
     ]
    }
   ],
   "source": [
    "print(df.isna().sum())# подсчёт пропусков"
   ]
  },
  {
   "cell_type": "markdown",
   "metadata": {
    "id": "qubhgnlO_Zct"
   },
   "source": [
    "Не все пропущенные значения влияют на исследование. Так в `track` и `artist` пропуски не важны для вашей работы. Достаточно заменить их явными обозначениями.\n",
    "\n",
    "Но пропуски в `genre` могут помешать сравнению музыкальных вкусов в Москве и Санкт-Петербурге. На практике было бы правильно установить причину пропусков и восстановить данные. Такой возможности нет в учебном проекте. Придётся:\n",
    "* заполнить и эти пропуски явными обозначениями,\n",
    "* оценить, насколько они повредят расчётам. "
   ]
  },
  {
   "cell_type": "markdown",
   "metadata": {
    "id": "fSv2laPA_Zct"
   },
   "source": [
    "Замените пропущенные значения в столбцах `track`, `artist` и `genre` на строку `'unknown'`. Для этого создайте список `columns_to_replace`, переберите его элементы циклом `for` и для каждого столбца выполните замену пропущенных значений:"
   ]
  },
  {
   "cell_type": "code",
   "execution_count": 68,
   "metadata": {
    "id": "KplB5qWs_Zct"
   },
   "outputs": [],
   "source": [
    "columns_to_replace = ['track', 'artist', 'genre'] # перебор названий столбцов в цикле и замена пропущенных значений на 'unknown'\n",
    "for _ in columns_to_replace: \n",
    "    df[_]=df[_].fillna('unknown') "
   ]
  },
  {
   "cell_type": "code",
   "execution_count": 69,
   "metadata": {},
   "outputs": [
    {
     "name": "stdout",
     "output_type": "stream",
     "text": [
      "hiphip\n",
      "hophop\n",
      "hip-hophip-hop\n"
     ]
    }
   ],
   "source": [
    "x = ['hip','hop', 'hip-hop']\n",
    "for i in x:\n",
    "    print (i+i) # склейка надписей"
   ]
  },
  {
   "cell_type": "markdown",
   "metadata": {
    "id": "Ilsm-MZo_Zct"
   },
   "source": [
    "Убедитесь, что в таблице не осталось пропусков. Для этого ещё раз посчитайте пропущенные значения."
   ]
  },
  {
   "cell_type": "code",
   "execution_count": 70,
   "metadata": {
    "id": "Tq4nYRX4_Zct"
   },
   "outputs": [
    {
     "data": {
      "text/plain": [
       "user_id    0\n",
       "track      0\n",
       "artist     0\n",
       "genre      0\n",
       "city       0\n",
       "time       0\n",
       "day        0\n",
       "dtype: int64"
      ]
     },
     "execution_count": 70,
     "metadata": {},
     "output_type": "execute_result"
    }
   ],
   "source": [
    "df.isna().sum()# подсчёт пропусков"
   ]
  },
  {
   "cell_type": "markdown",
   "metadata": {
    "id": "BWKRtBJ3_Zct"
   },
   "source": [
    "### Дубликаты\n",
    "Посчитайте явные дубликаты в таблице одной командой:"
   ]
  },
  {
   "cell_type": "code",
   "execution_count": 71,
   "metadata": {
    "id": "36eES_S0_Zct"
   },
   "outputs": [
    {
     "data": {
      "text/plain": [
       "3826"
      ]
     },
     "execution_count": 71,
     "metadata": {},
     "output_type": "execute_result"
    }
   ],
   "source": [
    "df.duplicated().sum()# подсчёт явных дубликатов"
   ]
  },
  {
   "cell_type": "markdown",
   "metadata": {
    "id": "Ot25h6XR_Zct"
   },
   "source": [
    "Вызовите специальный метод `pandas`, чтобы удалить явные дубликаты:"
   ]
  },
  {
   "cell_type": "code",
   "execution_count": 72,
   "metadata": {
    "id": "exFHq6tt_Zct"
   },
   "outputs": [],
   "source": [
    "df = df.drop_duplicates().reset_index(drop=True)# удаление явных дубликатов (с удалением старых индексов и формированием новых)"
   ]
  },
  {
   "cell_type": "code",
   "execution_count": 73,
   "metadata": {},
   "outputs": [
    {
     "data": {
      "text/html": [
       "<div>\n",
       "<style scoped>\n",
       "    .dataframe tbody tr th:only-of-type {\n",
       "        vertical-align: middle;\n",
       "    }\n",
       "\n",
       "    .dataframe tbody tr th {\n",
       "        vertical-align: top;\n",
       "    }\n",
       "\n",
       "    .dataframe thead th {\n",
       "        text-align: right;\n",
       "    }\n",
       "</style>\n",
       "<table border=\"1\" class=\"dataframe\">\n",
       "  <thead>\n",
       "    <tr style=\"text-align: right;\">\n",
       "      <th></th>\n",
       "      <th>user_id</th>\n",
       "      <th>track</th>\n",
       "      <th>artist</th>\n",
       "      <th>genre</th>\n",
       "      <th>city</th>\n",
       "      <th>time</th>\n",
       "      <th>day</th>\n",
       "    </tr>\n",
       "  </thead>\n",
       "  <tbody>\n",
       "    <tr>\n",
       "      <th>61243</th>\n",
       "      <td>9E65547F</td>\n",
       "      <td>Fascinating Rhythm</td>\n",
       "      <td>Mark Murphy</td>\n",
       "      <td>jazz</td>\n",
       "      <td>Moscow</td>\n",
       "      <td>20:29:09</td>\n",
       "      <td>Wednesday</td>\n",
       "    </tr>\n",
       "    <tr>\n",
       "      <th>61244</th>\n",
       "      <td>49F35D53</td>\n",
       "      <td>Ass Up</td>\n",
       "      <td>Rameez</td>\n",
       "      <td>dance</td>\n",
       "      <td>Moscow</td>\n",
       "      <td>14:08:58</td>\n",
       "      <td>Friday</td>\n",
       "    </tr>\n",
       "    <tr>\n",
       "      <th>61245</th>\n",
       "      <td>92378E24</td>\n",
       "      <td>Swing it Like You Mean it</td>\n",
       "      <td>OJOJOJ</td>\n",
       "      <td>techno</td>\n",
       "      <td>Moscow</td>\n",
       "      <td>21:12:56</td>\n",
       "      <td>Friday</td>\n",
       "    </tr>\n",
       "    <tr>\n",
       "      <th>61246</th>\n",
       "      <td>C532021D</td>\n",
       "      <td>We Can Not Be Silenced</td>\n",
       "      <td>Pänzer</td>\n",
       "      <td>extrememetal</td>\n",
       "      <td>Moscow</td>\n",
       "      <td>08:38:24</td>\n",
       "      <td>Friday</td>\n",
       "    </tr>\n",
       "    <tr>\n",
       "      <th>61247</th>\n",
       "      <td>83A474E7</td>\n",
       "      <td>I Worship Only What You Bleed</td>\n",
       "      <td>The Black Dahlia Murder</td>\n",
       "      <td>extrememetal</td>\n",
       "      <td>Moscow</td>\n",
       "      <td>21:07:12</td>\n",
       "      <td>Monday</td>\n",
       "    </tr>\n",
       "    <tr>\n",
       "      <th>61248</th>\n",
       "      <td>729CBB09</td>\n",
       "      <td>My Name</td>\n",
       "      <td>McLean</td>\n",
       "      <td>rnb</td>\n",
       "      <td>Moscow</td>\n",
       "      <td>13:32:28</td>\n",
       "      <td>Wednesday</td>\n",
       "    </tr>\n",
       "    <tr>\n",
       "      <th>61249</th>\n",
       "      <td>D08D4A55</td>\n",
       "      <td>Maybe One Day (feat. Black Spade)</td>\n",
       "      <td>Blu &amp; Exile</td>\n",
       "      <td>hip</td>\n",
       "      <td>Saint-Petersburg</td>\n",
       "      <td>10:00:00</td>\n",
       "      <td>Monday</td>\n",
       "    </tr>\n",
       "    <tr>\n",
       "      <th>61250</th>\n",
       "      <td>C5E3A0D5</td>\n",
       "      <td>Jalopiina</td>\n",
       "      <td>unknown</td>\n",
       "      <td>industrial</td>\n",
       "      <td>Moscow</td>\n",
       "      <td>20:09:26</td>\n",
       "      <td>Friday</td>\n",
       "    </tr>\n",
       "    <tr>\n",
       "      <th>61251</th>\n",
       "      <td>321D0506</td>\n",
       "      <td>Freight Train</td>\n",
       "      <td>Chas McDevitt</td>\n",
       "      <td>rock</td>\n",
       "      <td>Moscow</td>\n",
       "      <td>21:43:59</td>\n",
       "      <td>Friday</td>\n",
       "    </tr>\n",
       "    <tr>\n",
       "      <th>61252</th>\n",
       "      <td>3A64EF84</td>\n",
       "      <td>Tell Me Sweet Little Lies</td>\n",
       "      <td>Monica Lopez</td>\n",
       "      <td>country</td>\n",
       "      <td>Moscow</td>\n",
       "      <td>21:59:46</td>\n",
       "      <td>Friday</td>\n",
       "    </tr>\n",
       "  </tbody>\n",
       "</table>\n",
       "</div>"
      ],
      "text/plain": [
       "        user_id                              track                   artist  \\\n",
       "61243  9E65547F                 Fascinating Rhythm              Mark Murphy   \n",
       "61244  49F35D53                             Ass Up                   Rameez   \n",
       "61245  92378E24          Swing it Like You Mean it                   OJOJOJ   \n",
       "61246  C532021D             We Can Not Be Silenced                   Pänzer   \n",
       "61247  83A474E7      I Worship Only What You Bleed  The Black Dahlia Murder   \n",
       "61248  729CBB09                            My Name                   McLean   \n",
       "61249  D08D4A55  Maybe One Day (feat. Black Spade)              Blu & Exile   \n",
       "61250  C5E3A0D5                          Jalopiina                  unknown   \n",
       "61251  321D0506                      Freight Train            Chas McDevitt   \n",
       "61252  3A64EF84          Tell Me Sweet Little Lies             Monica Lopez   \n",
       "\n",
       "              genre              city      time        day  \n",
       "61243          jazz            Moscow  20:29:09  Wednesday  \n",
       "61244         dance            Moscow  14:08:58     Friday  \n",
       "61245        techno            Moscow  21:12:56     Friday  \n",
       "61246  extrememetal            Moscow  08:38:24     Friday  \n",
       "61247  extrememetal            Moscow  21:07:12     Monday  \n",
       "61248           rnb            Moscow  13:32:28  Wednesday  \n",
       "61249           hip  Saint-Petersburg  10:00:00     Monday  \n",
       "61250    industrial            Moscow  20:09:26     Friday  \n",
       "61251          rock            Moscow  21:43:59     Friday  \n",
       "61252       country            Moscow  21:59:46     Friday  "
      ]
     },
     "execution_count": 73,
     "metadata": {},
     "output_type": "execute_result"
    }
   ],
   "source": [
    "df.tail(10)"
   ]
  },
  {
   "cell_type": "markdown",
   "metadata": {
    "id": "Im2YwBEG_Zct"
   },
   "source": [
    "Ещё раз посчитайте явные дубликаты в таблице — убедитесь, что полностью от них избавились:"
   ]
  },
  {
   "cell_type": "code",
   "execution_count": 74,
   "metadata": {
    "id": "-8PuNWQ0_Zct"
   },
   "outputs": [
    {
     "data": {
      "text/plain": [
       "0"
      ]
     },
     "execution_count": 74,
     "metadata": {},
     "output_type": "execute_result"
    }
   ],
   "source": [
    "df.duplicated().sum()# проверка на отсутствие дубликатов"
   ]
  },
  {
   "cell_type": "markdown",
   "metadata": {
    "id": "QlFBsxAr_Zct"
   },
   "source": [
    "Теперь избавьтесь от неявных дубликатов в колонке `genre`. Например, название одного и того же жанра может быть записано немного по-разному. Такие ошибки тоже повлияют на результат исследования."
   ]
  },
  {
   "cell_type": "markdown",
   "metadata": {
    "id": "eSjWwsOh_Zct"
   },
   "source": [
    "Выведите на экран список уникальных названий жанров, отсортированный в алфавитном порядке. Для этого:\n",
    "* извлеките нужный столбец датафрейма, \n",
    "* примените к нему метод сортировки,\n",
    "* для отсортированного столбца вызовите метод, который вернёт уникальные значения из столбца."
   ]
  },
  {
   "cell_type": "code",
   "execution_count": 75,
   "metadata": {
    "id": "JIUcqzZN_Zct"
   },
   "outputs": [
    {
     "data": {
      "text/plain": [
       "array(['acid', 'acoustic', 'action', 'adult', 'africa', 'afrikaans',\n",
       "       'alternative', 'alternativepunk', 'ambient', 'americana',\n",
       "       'animated', 'anime', 'arabesk', 'arabic', 'arena',\n",
       "       'argentinetango', 'art', 'audiobook', 'author', 'avantgarde',\n",
       "       'axé', 'baile', 'balkan', 'beats', 'bigroom', 'black', 'bluegrass',\n",
       "       'blues', 'bollywood', 'bossa', 'brazilian', 'breakbeat', 'breaks',\n",
       "       'broadway', 'cantautori', 'cantopop', 'canzone', 'caribbean',\n",
       "       'caucasian', 'celtic', 'chamber', 'chanson', 'children', 'chill',\n",
       "       'chinese', 'choral', 'christian', 'christmas', 'classical',\n",
       "       'classicmetal', 'club', 'colombian', 'comedy', 'conjazz',\n",
       "       'contemporary', 'country', 'cuban', 'dance', 'dancehall',\n",
       "       'dancepop', 'dark', 'death', 'deep', 'deutschrock', 'deutschspr',\n",
       "       'dirty', 'disco', 'dnb', 'documentary', 'downbeat', 'downtempo',\n",
       "       'drum', 'dub', 'dubstep', 'eastern', 'easy', 'electronic',\n",
       "       'electropop', 'emo', 'entehno', 'epicmetal', 'estrada', 'ethnic',\n",
       "       'eurofolk', 'european', 'experimental', 'extrememetal', 'fado',\n",
       "       'fairytail', 'film', 'fitness', 'flamenco', 'folk', 'folklore',\n",
       "       'folkmetal', 'folkrock', 'folktronica', 'forró', 'frankreich',\n",
       "       'französisch', 'french', 'funk', 'future', 'gangsta', 'garage',\n",
       "       'german', 'ghazal', 'gitarre', 'glitch', 'gospel', 'gothic',\n",
       "       'grime', 'grunge', 'gypsy', 'handsup', \"hard'n'heavy\", 'hardcore',\n",
       "       'hardstyle', 'hardtechno', 'hip', 'hip-hop', 'hiphop',\n",
       "       'historisch', 'holiday', 'hop', 'horror', 'house', 'hymn', 'idm',\n",
       "       'independent', 'indian', 'indie', 'indipop', 'industrial',\n",
       "       'inspirational', 'instrumental', 'international', 'irish', 'jam',\n",
       "       'japanese', 'jazz', 'jewish', 'jpop', 'jungle', 'k-pop',\n",
       "       'karadeniz', 'karaoke', 'kayokyoku', 'korean', 'laiko', 'latin',\n",
       "       'latino', 'leftfield', 'local', 'lounge', 'loungeelectronic',\n",
       "       'lovers', 'malaysian', 'mandopop', 'marschmusik', 'meditative',\n",
       "       'mediterranean', 'melodic', 'metal', 'metalcore', 'mexican',\n",
       "       'middle', 'minimal', 'miscellaneous', 'modern', 'mood', 'mpb',\n",
       "       'muslim', 'native', 'neoklassik', 'neue', 'new', 'newage',\n",
       "       'newwave', 'nu', 'nujazz', 'numetal', 'oceania', 'old', 'opera',\n",
       "       'orchestral', 'other', 'piano', 'podcasts', 'pop', 'popdance',\n",
       "       'popelectronic', 'popeurodance', 'poprussian', 'post',\n",
       "       'posthardcore', 'postrock', 'power', 'progmetal', 'progressive',\n",
       "       'psychedelic', 'punjabi', 'punk', 'quebecois', 'ragga', 'ram',\n",
       "       'rancheras', 'rap', 'rave', 'reggae', 'reggaeton', 'regional',\n",
       "       'relax', 'religious', 'retro', 'rhythm', 'rnb', 'rnr', 'rock',\n",
       "       'rockabilly', 'rockalternative', 'rockindie', 'rockother',\n",
       "       'romance', 'roots', 'ruspop', 'rusrap', 'rusrock', 'russian',\n",
       "       'salsa', 'samba', 'scenic', 'schlager', 'self', 'sertanejo',\n",
       "       'shanson', 'shoegazing', 'showtunes', 'singer', 'ska', 'skarock',\n",
       "       'slow', 'smooth', 'soft', 'soul', 'soulful', 'sound', 'soundtrack',\n",
       "       'southern', 'specialty', 'speech', 'spiritual', 'sport',\n",
       "       'stonerrock', 'surf', 'swing', 'synthpop', 'synthrock',\n",
       "       'sängerportrait', 'tango', 'tanzorchester', 'taraftar', 'tatar',\n",
       "       'tech', 'techno', 'teen', 'thrash', 'top', 'traditional',\n",
       "       'tradjazz', 'trance', 'tribal', 'trip', 'triphop', 'tropical',\n",
       "       'türk', 'türkçe', 'ukrrock', 'unknown', 'urban', 'uzbek',\n",
       "       'variété', 'vi', 'videogame', 'vocal', 'western', 'world',\n",
       "       'worldbeat', 'ïîï', 'электроника'], dtype=object)"
      ]
     },
     "execution_count": 75,
     "metadata": {},
     "output_type": "execute_result"
    }
   ],
   "source": [
    "df['genre'].sort_values().unique()# Просмотр уникальных названий жанров "
   ]
  },
  {
   "cell_type": "markdown",
   "metadata": {
    "id": "qej-Qmuo_Zct"
   },
   "source": [
    "Просмотрите список и найдите неявные дубликаты названия `hiphop`. Это могут быть названия с ошибками или альтернативные названия того же жанра.\n",
    "\n",
    "Вы увидите следующие неявные дубликаты:\n",
    "* *hip*,\n",
    "* *hop*,\n",
    "* *hip-hop*.\n",
    "\n",
    "Чтобы очистить от них таблицу, напишите функцию `replace_wrong_genres()` с двумя параметрами: \n",
    "* `wrong_genres` — список дубликатов,\n",
    "* `correct_genre` — строка с правильным значением.\n",
    "\n",
    "Функция должна исправить колонку `genre` в таблице `df`: заменить каждое значение из списка `wrong_genres` на значение из `correct_genre`."
   ]
  },
  {
   "cell_type": "code",
   "execution_count": 76,
   "metadata": {
    "id": "ErNDkmns_Zct"
   },
   "outputs": [],
   "source": [
    "def replace_wrong_genres(wrong_genres, correct_genre):# Функция для замены неявных дубликатов\n",
    "    for wrong_value in wrong_genres: \n",
    "        df['genre'] = df.loc[:, 'genre'].replace(wrong_value, correct_genre)"
   ]
  },
  {
   "cell_type": "markdown",
   "metadata": {
    "id": "aDoBJxbA_Zct"
   },
   "source": [
    "Вызовите `replace_wrong_genres()` и передайте ей такие аргументы, чтобы она устранила неявные дубликаты: вместо `hip`, `hop` и `hip-hop` в таблице должно быть значение `hiphop`:"
   ]
  },
  {
   "cell_type": "code",
   "execution_count": 77,
   "metadata": {
    "id": "YN5i2hpmSo09"
   },
   "outputs": [],
   "source": [
    "duplicates = ['hip', 'hop', 'hip-hop'] \n",
    "name = 'hiphop'\n",
    "replace_wrong_genres(duplicates, name) # Устранение неявных дубликатов"
   ]
  },
  {
   "cell_type": "markdown",
   "metadata": {
    "id": "zQKF16_RG15m"
   },
   "source": [
    "Проверьте, что заменили неправильные названия:\n",
    "\n",
    "*   hip\n",
    "*   hop\n",
    "*   hip-hop\n",
    "\n",
    "Выведите отсортированный список уникальных значений столбца `genre`:"
   ]
  },
  {
   "cell_type": "code",
   "execution_count": 78,
   "metadata": {
    "id": "wvixALnFG15m"
   },
   "outputs": [
    {
     "data": {
      "text/plain": [
       "array(['acid', 'acoustic', 'action', 'adult', 'africa', 'afrikaans',\n",
       "       'alternative', 'alternativepunk', 'ambient', 'americana',\n",
       "       'animated', 'anime', 'arabesk', 'arabic', 'arena',\n",
       "       'argentinetango', 'art', 'audiobook', 'author', 'avantgarde',\n",
       "       'axé', 'baile', 'balkan', 'beats', 'bigroom', 'black', 'bluegrass',\n",
       "       'blues', 'bollywood', 'bossa', 'brazilian', 'breakbeat', 'breaks',\n",
       "       'broadway', 'cantautori', 'cantopop', 'canzone', 'caribbean',\n",
       "       'caucasian', 'celtic', 'chamber', 'chanson', 'children', 'chill',\n",
       "       'chinese', 'choral', 'christian', 'christmas', 'classical',\n",
       "       'classicmetal', 'club', 'colombian', 'comedy', 'conjazz',\n",
       "       'contemporary', 'country', 'cuban', 'dance', 'dancehall',\n",
       "       'dancepop', 'dark', 'death', 'deep', 'deutschrock', 'deutschspr',\n",
       "       'dirty', 'disco', 'dnb', 'documentary', 'downbeat', 'downtempo',\n",
       "       'drum', 'dub', 'dubstep', 'eastern', 'easy', 'electronic',\n",
       "       'electropop', 'emo', 'entehno', 'epicmetal', 'estrada', 'ethnic',\n",
       "       'eurofolk', 'european', 'experimental', 'extrememetal', 'fado',\n",
       "       'fairytail', 'film', 'fitness', 'flamenco', 'folk', 'folklore',\n",
       "       'folkmetal', 'folkrock', 'folktronica', 'forró', 'frankreich',\n",
       "       'französisch', 'french', 'funk', 'future', 'gangsta', 'garage',\n",
       "       'german', 'ghazal', 'gitarre', 'glitch', 'gospel', 'gothic',\n",
       "       'grime', 'grunge', 'gypsy', 'handsup', \"hard'n'heavy\", 'hardcore',\n",
       "       'hardstyle', 'hardtechno', 'hiphop', 'historisch', 'holiday',\n",
       "       'horror', 'house', 'hymn', 'idm', 'independent', 'indian', 'indie',\n",
       "       'indipop', 'industrial', 'inspirational', 'instrumental',\n",
       "       'international', 'irish', 'jam', 'japanese', 'jazz', 'jewish',\n",
       "       'jpop', 'jungle', 'k-pop', 'karadeniz', 'karaoke', 'kayokyoku',\n",
       "       'korean', 'laiko', 'latin', 'latino', 'leftfield', 'local',\n",
       "       'lounge', 'loungeelectronic', 'lovers', 'malaysian', 'mandopop',\n",
       "       'marschmusik', 'meditative', 'mediterranean', 'melodic', 'metal',\n",
       "       'metalcore', 'mexican', 'middle', 'minimal', 'miscellaneous',\n",
       "       'modern', 'mood', 'mpb', 'muslim', 'native', 'neoklassik', 'neue',\n",
       "       'new', 'newage', 'newwave', 'nu', 'nujazz', 'numetal', 'oceania',\n",
       "       'old', 'opera', 'orchestral', 'other', 'piano', 'podcasts', 'pop',\n",
       "       'popdance', 'popelectronic', 'popeurodance', 'poprussian', 'post',\n",
       "       'posthardcore', 'postrock', 'power', 'progmetal', 'progressive',\n",
       "       'psychedelic', 'punjabi', 'punk', 'quebecois', 'ragga', 'ram',\n",
       "       'rancheras', 'rap', 'rave', 'reggae', 'reggaeton', 'regional',\n",
       "       'relax', 'religious', 'retro', 'rhythm', 'rnb', 'rnr', 'rock',\n",
       "       'rockabilly', 'rockalternative', 'rockindie', 'rockother',\n",
       "       'romance', 'roots', 'ruspop', 'rusrap', 'rusrock', 'russian',\n",
       "       'salsa', 'samba', 'scenic', 'schlager', 'self', 'sertanejo',\n",
       "       'shanson', 'shoegazing', 'showtunes', 'singer', 'ska', 'skarock',\n",
       "       'slow', 'smooth', 'soft', 'soul', 'soulful', 'sound', 'soundtrack',\n",
       "       'southern', 'specialty', 'speech', 'spiritual', 'sport',\n",
       "       'stonerrock', 'surf', 'swing', 'synthpop', 'synthrock',\n",
       "       'sängerportrait', 'tango', 'tanzorchester', 'taraftar', 'tatar',\n",
       "       'tech', 'techno', 'teen', 'thrash', 'top', 'traditional',\n",
       "       'tradjazz', 'trance', 'tribal', 'trip', 'triphop', 'tropical',\n",
       "       'türk', 'türkçe', 'ukrrock', 'unknown', 'urban', 'uzbek',\n",
       "       'variété', 'vi', 'videogame', 'vocal', 'western', 'world',\n",
       "       'worldbeat', 'ïîï', 'электроника'], dtype=object)"
      ]
     },
     "execution_count": 78,
     "metadata": {},
     "output_type": "execute_result"
    }
   ],
   "source": [
    "df['genre'].sort_values().unique()# Проверка на неявные дубликаты"
   ]
  },
  {
   "cell_type": "markdown",
   "metadata": {
    "id": "jz6a9-7HQUDd"
   },
   "source": [
    "**Выводы**\n",
    "\n",
    "Предобработка обнаружила три проблемы в данных:\n",
    "\n",
    "- нарушения в стиле заголовков,\n",
    "- пропущенные значения,\n",
    "- дубликаты — явные и неявные.\n",
    "\n",
    "Вы исправили заголовки, чтобы упростить работу с таблицей. Без дубликатов исследование станет более точным.\n",
    "\n",
    "Пропущенные значения вы заменили на `'unknown'`. Ещё предстоит увидеть, не повредят ли исследованию пропуски в колонке `genre`.\n",
    "\n",
    "Теперь можно перейти к проверке гипотез. "
   ]
  },
  {
   "cell_type": "markdown",
   "metadata": {
    "id": "WttZHXH0SqKk"
   },
   "source": [
    "## Проверка гипотез"
   ]
  },
  {
   "cell_type": "markdown",
   "metadata": {
    "id": "Im936VVi_Zcu"
   },
   "source": [
    "### Сравнение поведения пользователей двух столиц"
   ]
  },
  {
   "cell_type": "markdown",
   "metadata": {
    "id": "nwt_MuaL_Zcu"
   },
   "source": [
    "Первая гипотеза утверждает, что пользователи по-разному слушают музыку в Москве и Санкт-Петербурге. Проверьте это предположение по данным о трёх днях недели — понедельнике, среде и пятнице. Для этого:\n",
    "\n",
    "* Разделите пользователей Москвы и Санкт-Петербурга\n",
    "* Сравните, сколько треков послушала каждая группа пользователей в понедельник, среду и пятницу.\n"
   ]
  },
  {
   "cell_type": "markdown",
   "metadata": {
    "id": "8Dw_YMmT_Zcu"
   },
   "source": [
    "Для тренировки сначала выполните каждый из расчётов по отдельности. \n",
    "\n",
    "Оцените активность пользователей в каждом городе. Сгруппируйте данные по городу и посчитайте прослушивания в каждой группе.\n",
    "\n"
   ]
  },
  {
   "cell_type": "code",
   "execution_count": 79,
   "metadata": {
    "id": "0_Qs96oh_Zcu"
   },
   "outputs": [
    {
     "data": {
      "text/html": [
       "<div>\n",
       "<style scoped>\n",
       "    .dataframe tbody tr th:only-of-type {\n",
       "        vertical-align: middle;\n",
       "    }\n",
       "\n",
       "    .dataframe tbody tr th {\n",
       "        vertical-align: top;\n",
       "    }\n",
       "\n",
       "    .dataframe thead th {\n",
       "        text-align: right;\n",
       "    }\n",
       "</style>\n",
       "<table border=\"1\" class=\"dataframe\">\n",
       "  <thead>\n",
       "    <tr style=\"text-align: right;\">\n",
       "      <th></th>\n",
       "      <th>user_id</th>\n",
       "    </tr>\n",
       "    <tr>\n",
       "      <th>city</th>\n",
       "      <th></th>\n",
       "    </tr>\n",
       "  </thead>\n",
       "  <tbody>\n",
       "    <tr>\n",
       "      <th>Moscow</th>\n",
       "      <td>42741</td>\n",
       "    </tr>\n",
       "    <tr>\n",
       "      <th>Saint-Petersburg</th>\n",
       "      <td>18512</td>\n",
       "    </tr>\n",
       "  </tbody>\n",
       "</table>\n",
       "</div>"
      ],
      "text/plain": [
       "                  user_id\n",
       "city                     \n",
       "Moscow              42741\n",
       "Saint-Petersburg    18512"
      ]
     },
     "metadata": {},
     "output_type": "display_data"
    }
   ],
   "source": [
    "display(df.groupby('city')['user_id'].count().to_frame())# Подсчёт прослушиваний в каждом городе"
   ]
  },
  {
   "cell_type": "markdown",
   "metadata": {
    "id": "dzli3w8o_Zcu"
   },
   "source": [
    "В Москве прослушиваний больше, чем в Петербурге. Из этого не следует, что московские пользователи чаще слушают музыку. Просто самих пользователей в Москве больше.\n",
    "\n",
    "Теперь сгруппируйте данные по дню недели и подсчитайте прослушивания в понедельник, среду и пятницу. Учтите, что в данных есть информация о прослушиваниях только за эти дни.\n"
   ]
  },
  {
   "cell_type": "code",
   "execution_count": 80,
   "metadata": {
    "id": "uZMKjiJz_Zcu"
   },
   "outputs": [
    {
     "data": {
      "text/plain": [
       "day\n",
       "Friday       21840\n",
       "Monday       21354\n",
       "Wednesday    18059\n",
       "Name: user_id, dtype: int64"
      ]
     },
     "metadata": {},
     "output_type": "display_data"
    }
   ],
   "source": [
    "display(df.groupby('day')['user_id'].count())# Подсчёт прослушиваний в каждый из трёх дней"
   ]
  },
  {
   "cell_type": "markdown",
   "metadata": {
    "id": "cC2tNrlL_Zcu"
   },
   "source": [
    "В среднем пользователи из двух городов менее активны по средам. Но картина может измениться, если рассмотреть каждый город в отдельности."
   ]
  },
  {
   "cell_type": "markdown",
   "metadata": {
    "id": "POzs8bGa_Zcu"
   },
   "source": [
    "Вы видели, как работает группировка по городу и по дням недели. Теперь напишите функцию, которая объединит два эти расчёта.\n",
    "\n",
    "Создайте функцию `number_tracks()`, которая посчитает прослушивания для заданного дня и города. Ей понадобятся два параметра:\n",
    "* день недели,\n",
    "* название города.\n",
    "\n",
    "В функции сохраните в переменную строки исходной таблицы, у которых значение:\n",
    "  * в колонке `day` равно параметру `day`,\n",
    "  * в колонке `city` равно параметру `city`.\n",
    "\n",
    "Для этого примените последовательную фильтрацию с логической индексацией.\n",
    "\n",
    "Затем посчитайте значения в столбце `user_id` получившейся таблицы. Результат сохраните в новую переменную. Верните эту переменную из функции."
   ]
  },
  {
   "cell_type": "code",
   "execution_count": 81,
   "metadata": {
    "id": "Nz3GdQB1_Zcu"
   },
   "outputs": [],
   "source": [
    "def number_tracks(day, city): # <создание функции number_tracks()> \n",
    "    track_list = df[df['city'] == city]\n",
    "    track_list = track_list[track_list['day'] == day]\n",
    "# Объявляется функция с двумя параметрами: day, city.\n",
    "# В переменной track_list сохраняются те строки таблицы df, для которых \n",
    "# значение в столбце 'day' равно параметру day и одновременно значение\n",
    "# в столбце 'city' равно параметру city (используйте последовательную фильтрацию\n",
    "# с помощью логической индексации).\n",
    "    track_list_count = track_list['user_id'].count()  \n",
    "# В переменной track_list_count сохраняется число значений столбца 'user_id',\n",
    "# рассчитанное методом count() для таблицы track_list.\n",
    "    return track_list_count \n",
    "# Функция возвращает число - значение track_list_count.\n",
    "\n",
    "# Функция для подсчёта прослушиваний для конкретного города и дня.\n",
    "# С помощью последовательной фильтрации с логической индексацией она \n",
    "# сначала получит из исходной таблицы строки с нужным днём,\n",
    "# затем из результата отфильтрует строки с нужным городом,\n",
    "# методом count() посчитает количество значений в колонке user_id. \n",
    "# Это количество функция вернёт в качестве результата"
   ]
  },
  {
   "cell_type": "markdown",
   "metadata": {
    "id": "ytf7xFrFJQ2r"
   },
   "source": [
    "Вызовите `number_tracks()` шесть раз, меняя значение параметров — так, чтобы получить данные для каждого города в каждый из трёх дней."
   ]
  },
  {
   "cell_type": "code",
   "execution_count": 82,
   "metadata": {
    "id": "rJcRATNQ_Zcu"
   },
   "outputs": [
    {
     "data": {
      "text/plain": [
       "15740"
      ]
     },
     "execution_count": 82,
     "metadata": {},
     "output_type": "execute_result"
    }
   ],
   "source": [
    "day = ['Monday', 'Wednesday', 'Friday']\n",
    "city = ['Moscow', 'Saint-Petersburg']\n",
    "number_tracks(day[0], city[0]) # количество прослушиваний в Москве по понедельникам"
   ]
  },
  {
   "cell_type": "code",
   "execution_count": 83,
   "metadata": {
    "id": "hq_ncZ5T_Zcu"
   },
   "outputs": [
    {
     "data": {
      "text/plain": [
       "5614"
      ]
     },
     "execution_count": 83,
     "metadata": {},
     "output_type": "execute_result"
    }
   ],
   "source": [
    "number_tracks(day[0], city[1]) # количество прослушиваний в Санкт-Петербурге по понедельникам"
   ]
  },
  {
   "cell_type": "code",
   "execution_count": 84,
   "metadata": {
    "id": "_NTy2VPU_Zcu"
   },
   "outputs": [
    {
     "data": {
      "text/plain": [
       "11056"
      ]
     },
     "execution_count": 84,
     "metadata": {},
     "output_type": "execute_result"
    }
   ],
   "source": [
    "number_tracks(day[1], city[0]) # количество прослушиваний в Москве по средам"
   ]
  },
  {
   "cell_type": "code",
   "execution_count": 85,
   "metadata": {
    "id": "j2y3TAwo_Zcu"
   },
   "outputs": [
    {
     "data": {
      "text/plain": [
       "7003"
      ]
     },
     "execution_count": 85,
     "metadata": {},
     "output_type": "execute_result"
    }
   ],
   "source": [
    "number_tracks(day[1], city[1]) # количество прослушиваний в Санкт-Петербурге по средам"
   ]
  },
  {
   "cell_type": "code",
   "execution_count": 86,
   "metadata": {
    "id": "vYDw5u_K_Zcu"
   },
   "outputs": [
    {
     "data": {
      "text/plain": [
       "15945"
      ]
     },
     "execution_count": 86,
     "metadata": {},
     "output_type": "execute_result"
    }
   ],
   "source": [
    "number_tracks(day[2], city[0]) # количество прослушиваний в Москве по пятницам"
   ]
  },
  {
   "cell_type": "code",
   "execution_count": 87,
   "metadata": {
    "id": "8_yzFtW3_Zcu"
   },
   "outputs": [
    {
     "data": {
      "text/plain": [
       "5895"
      ]
     },
     "execution_count": 87,
     "metadata": {},
     "output_type": "execute_result"
    }
   ],
   "source": [
    "number_tracks(day[2], city[1]) # количество прослушиваний в Санкт-Петербурге по пятницам"
   ]
  },
  {
   "cell_type": "markdown",
   "metadata": {
    "id": "7QXffbO-_Zcu"
   },
   "source": [
    "Создайте c помощью конструктора `pd.DataFrame` таблицу, где\n",
    "* названия колонок — `['city', 'monday', 'wednesday', 'friday']`;\n",
    "* данные — результаты, которые вы получили с помощью `number_tracks`."
   ]
  },
  {
   "cell_type": "code",
   "execution_count": 88,
   "metadata": {
    "id": "APAcLpOr_Zcu"
   },
   "outputs": [
    {
     "data": {
      "text/html": [
       "<div>\n",
       "<style scoped>\n",
       "    .dataframe tbody tr th:only-of-type {\n",
       "        vertical-align: middle;\n",
       "    }\n",
       "\n",
       "    .dataframe tbody tr th {\n",
       "        vertical-align: top;\n",
       "    }\n",
       "\n",
       "    .dataframe thead th {\n",
       "        text-align: right;\n",
       "    }\n",
       "</style>\n",
       "<table border=\"1\" class=\"dataframe\">\n",
       "  <thead>\n",
       "    <tr style=\"text-align: right;\">\n",
       "      <th></th>\n",
       "      <th>city</th>\n",
       "      <th>monday</th>\n",
       "      <th>wednesday</th>\n",
       "      <th>friday</th>\n",
       "    </tr>\n",
       "  </thead>\n",
       "  <tbody>\n",
       "    <tr>\n",
       "      <th>0</th>\n",
       "      <td>Москва</td>\n",
       "      <td>15740</td>\n",
       "      <td>11056</td>\n",
       "      <td>15945</td>\n",
       "    </tr>\n",
       "    <tr>\n",
       "      <th>1</th>\n",
       "      <td>Санкт-Петербург</td>\n",
       "      <td>5614</td>\n",
       "      <td>7003</td>\n",
       "      <td>5895</td>\n",
       "    </tr>\n",
       "  </tbody>\n",
       "</table>\n",
       "</div>"
      ],
      "text/plain": [
       "              city  monday  wednesday  friday\n",
       "0           Москва   15740      11056   15945\n",
       "1  Санкт-Петербург    5614       7003    5895"
      ]
     },
     "execution_count": 88,
     "metadata": {},
     "output_type": "execute_result"
    }
   ],
   "source": [
    "columns = ['city', 'monday', 'wednesday', 'friday'] # Таблица с результатами'city', 'monday', 'wednesday', 'friday'] \n",
    "data = [['Москва', 15740, 11056, 15945],['Санкт-Петербург', 5614, 7003, 5895]]\n",
    "pd.DataFrame(data=data,columns=columns)"
   ]
  },
  {
   "cell_type": "markdown",
   "metadata": {
    "id": "-EgPIHYu_Zcu"
   },
   "source": [
    "**Выводы**\n",
    "\n",
    "Данные показывают разницу поведения пользователей:\n",
    "\n",
    "- В Москве пик прослушиваний приходится на понедельник и пятницу, а в среду заметен спад.\n",
    "- В Петербурге, наоборот, больше слушают музыку по средам. Активность в понедельник и пятницу здесь почти в равной мере уступает среде.\n",
    "\n",
    "Значит, данные говорят в пользу первой гипотезы."
   ]
  },
  {
   "cell_type": "markdown",
   "metadata": {
    "id": "atZAxtq4_Zcu"
   },
   "source": [
    "### Музыка в начале и в конце недели"
   ]
  },
  {
   "cell_type": "markdown",
   "metadata": {
    "id": "eXrQqXFH_Zcu"
   },
   "source": [
    "Согласно второй гипотезе, утром в понедельник в Москве преобладают одни жанры, а в Петербурге — другие. Так же и вечером пятницы преобладают разные жанры — в зависимости от города."
   ]
  },
  {
   "cell_type": "markdown",
   "metadata": {
    "id": "S8UcW6Hw_Zcu"
   },
   "source": [
    "Сохраните таблицы с данными в две переменные:\n",
    "* по Москве — в `moscow_general`;\n",
    "* по Санкт-Петербургу — в `spb_general`."
   ]
  },
  {
   "cell_type": "code",
   "execution_count": 89,
   "metadata": {
    "id": "qeaFfM_P_Zcu"
   },
   "outputs": [],
   "source": [
    "moscow_general = df[df['city'] == 'Moscow'] # получение таблицы moscow_general из тех строк таблицы df, \n",
    "# для которых значение в столбце 'city' равно 'Moscow'\n"
   ]
  },
  {
   "cell_type": "code",
   "execution_count": 90,
   "metadata": {
    "id": "ORaVRKto_Zcu"
   },
   "outputs": [],
   "source": [
    "spb_general = df[df['city'] == 'Saint-Petersburg'] # получение таблицы spb_general из тех строк таблицы df,\n",
    "# для которых значение в столбце 'city' равно 'Saint-Petersburg'\n"
   ]
  },
  {
   "cell_type": "code",
   "execution_count": 91,
   "metadata": {},
   "outputs": [
    {
     "data": {
      "text/html": [
       "<div>\n",
       "<style scoped>\n",
       "    .dataframe tbody tr th:only-of-type {\n",
       "        vertical-align: middle;\n",
       "    }\n",
       "\n",
       "    .dataframe tbody tr th {\n",
       "        vertical-align: top;\n",
       "    }\n",
       "\n",
       "    .dataframe thead th {\n",
       "        text-align: right;\n",
       "    }\n",
       "</style>\n",
       "<table border=\"1\" class=\"dataframe\">\n",
       "  <thead>\n",
       "    <tr style=\"text-align: right;\">\n",
       "      <th></th>\n",
       "      <th>user_id</th>\n",
       "      <th>track</th>\n",
       "      <th>artist</th>\n",
       "      <th>genre</th>\n",
       "      <th>city</th>\n",
       "      <th>time</th>\n",
       "      <th>day</th>\n",
       "    </tr>\n",
       "  </thead>\n",
       "  <tbody>\n",
       "    <tr>\n",
       "      <th>0</th>\n",
       "      <td>FFB692EC</td>\n",
       "      <td>Kamigata To Boots</td>\n",
       "      <td>The Mass Missile</td>\n",
       "      <td>rock</td>\n",
       "      <td>Saint-Petersburg</td>\n",
       "      <td>20:28:33</td>\n",
       "      <td>Wednesday</td>\n",
       "    </tr>\n",
       "    <tr>\n",
       "      <th>2</th>\n",
       "      <td>20EC38</td>\n",
       "      <td>Funiculì funiculà</td>\n",
       "      <td>Mario Lanza</td>\n",
       "      <td>pop</td>\n",
       "      <td>Saint-Petersburg</td>\n",
       "      <td>20:58:07</td>\n",
       "      <td>Wednesday</td>\n",
       "    </tr>\n",
       "    <tr>\n",
       "      <th>3</th>\n",
       "      <td>A3DD03C9</td>\n",
       "      <td>Dragons in the Sunset</td>\n",
       "      <td>Fire + Ice</td>\n",
       "      <td>folk</td>\n",
       "      <td>Saint-Petersburg</td>\n",
       "      <td>08:37:09</td>\n",
       "      <td>Monday</td>\n",
       "    </tr>\n",
       "    <tr>\n",
       "      <th>5</th>\n",
       "      <td>842029A1</td>\n",
       "      <td>Преданная</td>\n",
       "      <td>IMPERVTOR</td>\n",
       "      <td>rusrap</td>\n",
       "      <td>Saint-Petersburg</td>\n",
       "      <td>13:09:41</td>\n",
       "      <td>Friday</td>\n",
       "    </tr>\n",
       "    <tr>\n",
       "      <th>9</th>\n",
       "      <td>E772D5C0</td>\n",
       "      <td>Pessimist</td>\n",
       "      <td>unknown</td>\n",
       "      <td>dance</td>\n",
       "      <td>Saint-Petersburg</td>\n",
       "      <td>21:20:49</td>\n",
       "      <td>Wednesday</td>\n",
       "    </tr>\n",
       "    <tr>\n",
       "      <th>...</th>\n",
       "      <td>...</td>\n",
       "      <td>...</td>\n",
       "      <td>...</td>\n",
       "      <td>...</td>\n",
       "      <td>...</td>\n",
       "      <td>...</td>\n",
       "      <td>...</td>\n",
       "    </tr>\n",
       "    <tr>\n",
       "      <th>61239</th>\n",
       "      <td>D94F810B</td>\n",
       "      <td>Theme from the Walking Dead</td>\n",
       "      <td>Proyecto Halloween</td>\n",
       "      <td>film</td>\n",
       "      <td>Saint-Petersburg</td>\n",
       "      <td>21:14:40</td>\n",
       "      <td>Monday</td>\n",
       "    </tr>\n",
       "    <tr>\n",
       "      <th>61240</th>\n",
       "      <td>BC8EC5CF</td>\n",
       "      <td>Red Lips: Gta (Rover Rework)</td>\n",
       "      <td>Rover</td>\n",
       "      <td>electronic</td>\n",
       "      <td>Saint-Petersburg</td>\n",
       "      <td>21:06:50</td>\n",
       "      <td>Monday</td>\n",
       "    </tr>\n",
       "    <tr>\n",
       "      <th>61241</th>\n",
       "      <td>29E04611</td>\n",
       "      <td>Bre Petrunko</td>\n",
       "      <td>Perunika Trio</td>\n",
       "      <td>world</td>\n",
       "      <td>Saint-Petersburg</td>\n",
       "      <td>13:56:00</td>\n",
       "      <td>Monday</td>\n",
       "    </tr>\n",
       "    <tr>\n",
       "      <th>61242</th>\n",
       "      <td>1B91C621</td>\n",
       "      <td>(Hello) Cloud Mountain</td>\n",
       "      <td>sleepmakeswaves</td>\n",
       "      <td>postrock</td>\n",
       "      <td>Saint-Petersburg</td>\n",
       "      <td>09:22:13</td>\n",
       "      <td>Monday</td>\n",
       "    </tr>\n",
       "    <tr>\n",
       "      <th>61249</th>\n",
       "      <td>D08D4A55</td>\n",
       "      <td>Maybe One Day (feat. Black Spade)</td>\n",
       "      <td>Blu &amp; Exile</td>\n",
       "      <td>hiphop</td>\n",
       "      <td>Saint-Petersburg</td>\n",
       "      <td>10:00:00</td>\n",
       "      <td>Monday</td>\n",
       "    </tr>\n",
       "  </tbody>\n",
       "</table>\n",
       "<p>18512 rows × 7 columns</p>\n",
       "</div>"
      ],
      "text/plain": [
       "        user_id                              track              artist  \\\n",
       "0      FFB692EC                  Kamigata To Boots    The Mass Missile   \n",
       "2        20EC38                  Funiculì funiculà         Mario Lanza   \n",
       "3      A3DD03C9              Dragons in the Sunset          Fire + Ice   \n",
       "5      842029A1                          Преданная           IMPERVTOR   \n",
       "9      E772D5C0                          Pessimist             unknown   \n",
       "...         ...                                ...                 ...   \n",
       "61239  D94F810B        Theme from the Walking Dead  Proyecto Halloween   \n",
       "61240  BC8EC5CF       Red Lips: Gta (Rover Rework)               Rover   \n",
       "61241  29E04611                       Bre Petrunko       Perunika Trio   \n",
       "61242  1B91C621             (Hello) Cloud Mountain     sleepmakeswaves   \n",
       "61249  D08D4A55  Maybe One Day (feat. Black Spade)         Blu & Exile   \n",
       "\n",
       "            genre              city      time        day  \n",
       "0            rock  Saint-Petersburg  20:28:33  Wednesday  \n",
       "2             pop  Saint-Petersburg  20:58:07  Wednesday  \n",
       "3            folk  Saint-Petersburg  08:37:09     Monday  \n",
       "5          rusrap  Saint-Petersburg  13:09:41     Friday  \n",
       "9           dance  Saint-Petersburg  21:20:49  Wednesday  \n",
       "...           ...               ...       ...        ...  \n",
       "61239        film  Saint-Petersburg  21:14:40     Monday  \n",
       "61240  electronic  Saint-Petersburg  21:06:50     Monday  \n",
       "61241       world  Saint-Petersburg  13:56:00     Monday  \n",
       "61242    postrock  Saint-Petersburg  09:22:13     Monday  \n",
       "61249      hiphop  Saint-Petersburg  10:00:00     Monday  \n",
       "\n",
       "[18512 rows x 7 columns]"
      ]
     },
     "execution_count": 91,
     "metadata": {},
     "output_type": "execute_result"
    }
   ],
   "source": [
    "spb_general"
   ]
  },
  {
   "cell_type": "markdown",
   "metadata": {
    "id": "MEJV-CX2_Zcu"
   },
   "source": [
    "Создайте функцию `genre_weekday()` с четырьмя параметрами:\n",
    "* таблица (датафрейм) с данными,\n",
    "* день недели,\n",
    "* начальная временная метка в формате 'hh:mm', \n",
    "* последняя временная метка в формате 'hh:mm'.\n",
    "\n",
    "Функция должна вернуть информацию о топ-10 жанров тех треков, которые прослушивали в указанный день, в промежутке между двумя отметками времени."
   ]
  },
  {
   "cell_type": "code",
   "execution_count": 92,
   "metadata": {
    "id": "laJT9BYl_Zcu"
   },
   "outputs": [],
   "source": [
    "def genre_weekday(table, day, time1, time2): # Объявление функции genre_weekday() с параметрами table, day, time1, time2,\n",
    "# которая возвращает информацию о самых популярных жанрах в указанный день в\n",
    "# заданное время:\n",
    "    genre_df = table[table['day'] == day]\n",
    "    genre_df = genre_df[genre_df['time'] > time1]\n",
    "    genre_df = genre_df[genre_df['time'] < time2] \n",
    "    \n",
    "# 1) в переменную genre_df сохраняются те строки переданного датафрейма table, для\n",
    "#    которых одновременно:\n",
    "#    - значение в столбце day равно значению аргумента day\n",
    "#    - значение в столбце time больше значения аргумента time1\n",
    "#    - значение в столбце time меньше значения аргумента time2\n",
    "#    Используйте последовательную фильтрацию с помощью логической индексации. \n",
    "    genre_df_count = genre_df.groupby('genre').count()\n",
    "# 2) сгруппировать датафрейм genre_df по столбцу genre, взять один из его\n",
    "#    столбцов и посчитать методом count() количество записей для каждого из\n",
    "#    присутствующих жанров, получившийся Series записать в переменную\n",
    "#    genre_df_count\n",
    "    genre_df_sorted = genre_df_count['user_id'].sort_values(ascending=False)\n",
    "# 3) отсортировать genre_df_count по убыванию встречаемости и сохранить\n",
    "#    в переменную genre_df_sorted \n",
    "    return genre_df_sorted.head(10) \n",
    "# 4) вернуть Series из 10 первых значений genre_df_sorted, это будут топ-10\n",
    "#    популярных жанров (в указанный день, в заданное время)"
   ]
  },
  {
   "cell_type": "markdown",
   "metadata": {
    "id": "la2s2_PF_Zcu"
   },
   "source": [
    "Cравните результаты функции `genre_weekday()` для Москвы и Санкт-Петербурга в понедельник утром (с 7:00 до 11:00) и в пятницу вечером (с 17:00 до 23:00):"
   ]
  },
  {
   "cell_type": "code",
   "execution_count": 93,
   "metadata": {
    "id": "yz7itPUQ_Zcu"
   },
   "outputs": [
    {
     "data": {
      "text/plain": [
       "genre\n",
       "pop            781\n",
       "dance          549\n",
       "electronic     480\n",
       "rock           474\n",
       "hiphop         286\n",
       "ruspop         186\n",
       "world          181\n",
       "rusrap         175\n",
       "alternative    164\n",
       "unknown        161\n",
       "Name: user_id, dtype: int64"
      ]
     },
     "execution_count": 93,
     "metadata": {},
     "output_type": "execute_result"
    }
   ],
   "source": [
    "genre_weekday(moscow_general, 'Monday', '07:00', '11:00')# вызов функции для утра понедельника в Москве (вместо df — таблица moscow_general)\n",
    "# объекты, хранящие время, являются строками и сравниваются как строки\n",
    "# пример вызова: genre_weekday(moscow_general, 'Monday', '07:00', '11:00')"
   ]
  },
  {
   "cell_type": "code",
   "execution_count": 94,
   "metadata": {
    "id": "kwUcHPdy_Zcu"
   },
   "outputs": [
    {
     "data": {
      "text/plain": [
       "genre\n",
       "pop            218\n",
       "dance          182\n",
       "rock           162\n",
       "electronic     147\n",
       "hiphop          80\n",
       "ruspop          64\n",
       "alternative     58\n",
       "rusrap          55\n",
       "jazz            44\n",
       "classical       40\n",
       "Name: user_id, dtype: int64"
      ]
     },
     "execution_count": 94,
     "metadata": {},
     "output_type": "execute_result"
    }
   ],
   "source": [
    "genre_weekday(spb_general, 'Monday', '07:00', '11:00')# вызов функции для утра понедельника в Петербурге (вместо df — таблица spb_general)"
   ]
  },
  {
   "cell_type": "code",
   "execution_count": 95,
   "metadata": {
    "id": "EzXVRE1o_Zcu"
   },
   "outputs": [
    {
     "data": {
      "text/plain": [
       "genre\n",
       "pop            713\n",
       "rock           517\n",
       "dance          495\n",
       "electronic     482\n",
       "hiphop         273\n",
       "world          208\n",
       "ruspop         170\n",
       "alternative    163\n",
       "classical      163\n",
       "rusrap         142\n",
       "Name: user_id, dtype: int64"
      ]
     },
     "execution_count": 95,
     "metadata": {},
     "output_type": "execute_result"
    }
   ],
   "source": [
    "genre_weekday(moscow_general, 'Friday', '17:00', '23:00')# вызов функции для вечера пятницы в Москве"
   ]
  },
  {
   "cell_type": "code",
   "execution_count": 96,
   "metadata": {
    "id": "JZaEKu5v_Zcu"
   },
   "outputs": [
    {
     "data": {
      "text/plain": [
       "genre\n",
       "pop            256\n",
       "electronic     216\n",
       "rock           216\n",
       "dance          210\n",
       "hiphop          97\n",
       "alternative     63\n",
       "jazz            61\n",
       "classical       60\n",
       "rusrap          59\n",
       "world           54\n",
       "Name: user_id, dtype: int64"
      ]
     },
     "execution_count": 96,
     "metadata": {},
     "output_type": "execute_result"
    }
   ],
   "source": [
    "genre_weekday(spb_general, 'Friday', '17:00', '23:00')# вызов функции для вечера пятницы в Петербурге"
   ]
  },
  {
   "cell_type": "markdown",
   "metadata": {
    "id": "wrCe4MNX_Zcu"
   },
   "source": [
    "**Выводы**\n",
    "\n",
    "Если сравнить топ-10 жанров в понедельник утром, можно сделать такие выводы:\n",
    "\n",
    "1. В Москве и Петербурге слушают похожую музыку. Единственное отличие — в московский рейтинг вошёл жанр “world”, а в петербургский — джаз и классика.\n",
    "\n",
    "2. В Москве пропущенных значений оказалось так много, что значение `'unknown'` заняло десятое место среди самых популярных жанров. Значит, пропущенные значения занимают существенную долю в данных и угрожают достоверности исследования.\n",
    "\n",
    "Вечер пятницы не меняет эту картину. Некоторые жанры поднимаются немного выше, другие спускаются, но в целом топ-10 остаётся тем же самым.\n",
    "\n",
    "Таким образом, вторая гипотеза подтвердилась лишь частично:\n",
    "* Пользователи слушают похожую музыку в начале недели и в конце.\n",
    "* Разница между Москвой и Петербургом не слишком выражена. В Москве чаще слушают русскую популярную музыку, в Петербурге — джаз.\n",
    "\n",
    "Однако пропуски в данных ставят под сомнение этот результат. В Москве их так много, что рейтинг топ-10 мог бы выглядеть иначе, если бы не утерянные  данные о жанрах."
   ]
  },
  {
   "cell_type": "markdown",
   "metadata": {
    "id": "JolODAqr_Zcu"
   },
   "source": [
    "### Жанровые предпочтения в Москве и Петербурге\n",
    "\n",
    "Гипотеза: Петербург — столица рэпа, музыку этого жанра там слушают чаще, чем в Москве.  А Москва — город контрастов, в котором, тем не менее, преобладает поп-музыка."
   ]
  },
  {
   "cell_type": "markdown",
   "metadata": {
    "id": "DlegSvaT_Zcu"
   },
   "source": [
    "Сгруппируйте таблицу `moscow_general` по жанру и посчитайте прослушивания треков каждого жанра методом `count()`. Затем отсортируйте результат в порядке убывания и сохраните его в таблице `moscow_genres`."
   ]
  },
  {
   "cell_type": "code",
   "execution_count": 106,
   "metadata": {
    "id": "r19lIPke_Zcu"
   },
   "outputs": [],
   "source": [
    "moscow_genres = moscow_general.groupby('genre')['track'].count().sort_values(ascending=False) # одной строкой: группировка таблицы moscow_general по столбцу 'genre', \n",
    "# подсчёт числа значений 'genre' в этой группировке методом count(), \n",
    "# сортировка получившегося Series в порядке убывания и сохранение в moscow_genres"
   ]
  },
  {
   "cell_type": "markdown",
   "metadata": {
    "id": "6kMuomxTiIr8"
   },
   "source": [
    "Выведите на экран первые десять строк `moscow_genres`:"
   ]
  },
  {
   "cell_type": "code",
   "execution_count": 107,
   "metadata": {
    "id": "WhCSooF8_Zcv"
   },
   "outputs": [
    {
     "data": {
      "text/plain": [
       "genre\n",
       "pop            5892\n",
       "dance          4435\n",
       "rock           3965\n",
       "electronic     3786\n",
       "hiphop         2096\n",
       "classical      1616\n",
       "world          1432\n",
       "alternative    1379\n",
       "ruspop         1372\n",
       "rusrap         1161\n",
       "Name: track, dtype: int64"
      ]
     },
     "metadata": {},
     "output_type": "display_data"
    }
   ],
   "source": [
    "display(moscow_genres.head(10))# просмотр первых 10 строк moscow_genres"
   ]
  },
  {
   "cell_type": "markdown",
   "metadata": {
    "id": "cnPG2vnN_Zcv"
   },
   "source": [
    "Теперь повторите то же и для Петербурга.\n",
    "\n",
    "Сгруппируйте таблицу `spb_general` по жанру. Посчитайте прослушивания треков каждого жанра. Результат отсортируйте в порядке убывания и сохраните в таблице `spb_genres`:\n"
   ]
  },
  {
   "cell_type": "code",
   "execution_count": 109,
   "metadata": {
    "id": "gluLIpE7_Zcv"
   },
   "outputs": [],
   "source": [
    "spb_genres = spb_general.groupby('genre')['genre'].count().sort_values(ascending=False) # одной строкой: группировка таблицы spb_general по столбцу 'genre', \n",
    "# подсчёт числа значений 'genre' в этой группировке методом count(), \n",
    "# сортировка получившегося Series в порядке убывания и сохранение в spb_genres"
   ]
  },
  {
   "cell_type": "markdown",
   "metadata": {
    "id": "5Doha_ODgyQ8"
   },
   "source": [
    "Выведите на экран первые десять строк `spb_genres`:"
   ]
  },
  {
   "cell_type": "code",
   "execution_count": 110,
   "metadata": {
    "id": "uaGJHjVU_Zcv"
   },
   "outputs": [
    {
     "data": {
      "text/plain": [
       "genre\n",
       "pop            2431\n",
       "dance          1932\n",
       "rock           1879\n",
       "electronic     1736\n",
       "hiphop          960\n",
       "alternative     649\n",
       "classical       646\n",
       "rusrap          564\n",
       "ruspop          538\n",
       "world           515\n",
       "Name: genre, dtype: int64"
      ]
     },
     "metadata": {},
     "output_type": "display_data"
    }
   ],
   "source": [
    "display(spb_genres.head(10)) # просмотр первых 10 строк spb_genres \n",
    "# странно что пусто, формула та же что в Москве "
   ]
  },
  {
   "cell_type": "markdown",
   "metadata": {
    "id": "RY51YJYu_Zcv"
   },
   "source": [
    "**Выводы**"
   ]
  },
  {
   "cell_type": "markdown",
   "metadata": {
    "id": "nVhnJEm__Zcv"
   },
   "source": [
    "Гипотеза частично подтвердилась:\n",
    "* Поп-музыка — самый популярный жанр в Москве, как и предполагала гипотеза. Более того, в топ-10 жанров встречается близкий жанр — русская популярная музыка.\n",
    "* Вопреки ожиданиям, рэп одинаково популярен в Москве и Петербурге. \n"
   ]
  },
  {
   "cell_type": "markdown",
   "metadata": {
    "id": "ykKQ0N65_Zcv"
   },
   "source": [
    "## Итоги исследования"
   ]
  },
  {
   "cell_type": "markdown",
   "metadata": {
    "id": "tjUwbHb3_Zcv"
   },
   "source": [
    "Вы проверили три гипотезы и установили:\n",
    "\n",
    "1. День недели по-разному влияет на активность пользователей в Москве и Петербурге. \n",
    "\n",
    "Первая гипотеза полностью подтвердилась.\n",
    "\n",
    "2. Музыкальные предпочтения не сильно меняются в течение недели — будь то Москва или Петербург. Небольшие различия заметны в начале недели, по понедельникам:\n",
    "* в Москве слушают музыку жанра “world”,\n",
    "* в Петербурге — джаз и классику.\n",
    "\n",
    "Таким образом, вторая гипотеза подтвердилась лишь отчасти. Этот результат мог оказаться иным, если бы не пропуски в данных.\n",
    "\n",
    "3. Во вкусах пользователей Москвы и Петербурга больше общего чем различий. Вопреки ожиданиям, предпочтения жанров в Петербурге напоминают московские.\n",
    "\n",
    "Третья гипотеза не подтвердилась. Если различия в предпочтениях и существуют, на основной массе пользователей они незаметны.\n",
    "\n",
    "**На практике исследования содержат проверки статистических гипотез.**\n",
    "Из данных одного сервиса не всегда можно сделать вывод о всех жителях города.\n",
    "Проверки статистических гипотез покажут, насколько они достоверны, исходя из имеющихся данных. \n",
    "С методами проверок гипотез вы ещё познакомитесь в следующих темах."
   ]
  },
  {
   "cell_type": "code",
   "execution_count": 111,
   "metadata": {},
   "outputs": [
    {
     "data": {
      "text/html": [
       "<div>\n",
       "<style scoped>\n",
       "    .dataframe tbody tr th:only-of-type {\n",
       "        vertical-align: middle;\n",
       "    }\n",
       "\n",
       "    .dataframe tbody tr th {\n",
       "        vertical-align: top;\n",
       "    }\n",
       "\n",
       "    .dataframe thead th {\n",
       "        text-align: right;\n",
       "    }\n",
       "</style>\n",
       "<table border=\"1\" class=\"dataframe\">\n",
       "  <thead>\n",
       "    <tr style=\"text-align: right;\">\n",
       "      <th></th>\n",
       "      <th>city</th>\n",
       "      <th>monday</th>\n",
       "      <th>wednesday</th>\n",
       "      <th>friday</th>\n",
       "    </tr>\n",
       "  </thead>\n",
       "  <tbody>\n",
       "    <tr>\n",
       "      <th>0</th>\n",
       "      <td>Moscow</td>\n",
       "      <td>15740</td>\n",
       "      <td>11056</td>\n",
       "      <td>15945</td>\n",
       "    </tr>\n",
       "    <tr>\n",
       "      <th>1</th>\n",
       "      <td>Saint-Petersburg</td>\n",
       "      <td>5614</td>\n",
       "      <td>7003</td>\n",
       "      <td>5895</td>\n",
       "    </tr>\n",
       "  </tbody>\n",
       "</table>\n",
       "</div>"
      ],
      "text/plain": [
       "               city  monday  wednesday  friday\n",
       "0            Moscow   15740      11056   15945\n",
       "1  Saint-Petersburg    5614       7003    5895"
      ]
     },
     "execution_count": 111,
     "metadata": {},
     "output_type": "execute_result"
    }
   ],
   "source": [
    "# вариант создания таблицы через группировку\n",
    "\n",
    "(\n",
    "    (df\n",
    "         .groupby(['city', 'day']) # разные методы группировки\n",
    "         .agg({'genre':'count'}) # подсчет значений\n",
    "         .reset_index() #  убираем индексы, чтобы можно было собрать другую группировку данных\n",
    "    )\n",
    "             .pivot_table(index= 'city', columns = 'day', values = 'genre', aggfunc = 'sum') # разные методы группировки\n",
    "             .reset_index()\n",
    "             .rename_axis('', axis='columns') # убираем лишние названия\n",
    "             .reindex(columns=['city','Monday','Wednesday','Friday']) # перестановка столбцов\n",
    "             .rename(columns={'Friday': 'friday', 'Monday':'monday', 'Wednesday':'wednesday' })\n",
    "             .sort_values(by='city', ascending = True)   \n",
    ")"
   ]
  },
  {
   "cell_type": "code",
   "execution_count": null,
   "metadata": {},
   "outputs": [],
   "source": [
    "\n"
   ]
  }
 ],
 "metadata": {
  "ExecuteTimeLog": [
   {
    "duration": 47,
    "start_time": "2022-05-11T10:39:46.368Z"
   },
   {
    "duration": 426,
    "start_time": "2022-05-11T10:39:57.905Z"
   },
   {
    "duration": 153,
    "start_time": "2022-05-11T10:39:59.258Z"
   },
   {
    "duration": 18,
    "start_time": "2022-05-11T10:40:00.469Z"
   },
   {
    "duration": 2,
    "start_time": "2022-05-11T10:40:07.915Z"
   },
   {
    "duration": 166,
    "start_time": "2022-05-11T10:40:08.802Z"
   },
   {
    "duration": 9,
    "start_time": "2022-05-11T10:40:09.723Z"
   },
   {
    "duration": 10,
    "start_time": "2022-05-11T10:40:25.069Z"
   },
   {
    "duration": 28,
    "start_time": "2022-05-11T10:41:22.853Z"
   },
   {
    "duration": 10,
    "start_time": "2022-05-11T10:41:27.259Z"
   },
   {
    "duration": 55,
    "start_time": "2022-05-11T10:41:42.945Z"
   },
   {
    "duration": 4,
    "start_time": "2022-05-11T10:48:44.652Z"
   },
   {
    "duration": 12,
    "start_time": "2022-05-11T10:50:33.603Z"
   },
   {
    "duration": 3,
    "start_time": "2022-05-11T10:50:45.276Z"
   },
   {
    "duration": 12,
    "start_time": "2022-05-11T10:50:56.205Z"
   },
   {
    "duration": 3,
    "start_time": "2022-05-11T10:50:58.220Z"
   },
   {
    "duration": 8,
    "start_time": "2022-05-11T10:51:11.586Z"
   },
   {
    "duration": 4,
    "start_time": "2022-05-11T10:51:12.757Z"
   },
   {
    "duration": 8,
    "start_time": "2022-05-11T10:51:19.235Z"
   },
   {
    "duration": 3,
    "start_time": "2022-05-11T10:51:20.261Z"
   },
   {
    "duration": 7,
    "start_time": "2022-05-11T10:51:55.689Z"
   },
   {
    "duration": 4,
    "start_time": "2022-05-11T10:51:56.464Z"
   },
   {
    "duration": 40,
    "start_time": "2022-05-11T10:54:20.666Z"
   },
   {
    "duration": 25,
    "start_time": "2022-05-11T11:01:17.176Z"
   },
   {
    "duration": 19,
    "start_time": "2022-05-11T11:01:20.316Z"
   },
   {
    "duration": 25,
    "start_time": "2022-05-11T11:01:23.334Z"
   },
   {
    "duration": 82,
    "start_time": "2022-05-12T12:20:51.122Z"
   },
   {
    "duration": 8,
    "start_time": "2022-05-12T12:21:02.179Z"
   },
   {
    "duration": 638,
    "start_time": "2022-05-12T12:21:20.701Z"
   },
   {
    "duration": 574,
    "start_time": "2022-05-12T12:21:24.718Z"
   },
   {
    "duration": 41,
    "start_time": "2022-05-12T12:21:26.581Z"
   },
   {
    "duration": 67,
    "start_time": "2022-05-12T12:21:27.173Z"
   },
   {
    "duration": 5,
    "start_time": "2022-05-12T12:21:27.917Z"
   },
   {
    "duration": 24,
    "start_time": "2022-05-12T12:21:28.338Z"
   },
   {
    "duration": 6,
    "start_time": "2022-05-12T12:21:28.788Z"
   },
   {
    "duration": 34,
    "start_time": "2022-05-12T12:21:29.589Z"
   },
   {
    "duration": 43,
    "start_time": "2022-05-12T12:21:30.084Z"
   },
   {
    "duration": 60,
    "start_time": "2022-05-12T12:21:31.169Z"
   },
   {
    "duration": 94,
    "start_time": "2022-05-12T12:21:31.980Z"
   },
   {
    "duration": 11,
    "start_time": "2022-05-12T12:21:42.212Z"
   },
   {
    "duration": 116,
    "start_time": "2022-05-12T12:22:14.604Z"
   },
   {
    "duration": 120,
    "start_time": "2022-05-12T12:22:54.673Z"
   },
   {
    "duration": 108,
    "start_time": "2022-05-12T12:23:08.762Z"
   },
   {
    "duration": 21,
    "start_time": "2022-05-12T12:27:24.319Z"
   },
   {
    "duration": 21,
    "start_time": "2022-05-12T12:31:42.425Z"
   },
   {
    "duration": 9,
    "start_time": "2022-05-12T12:31:46.950Z"
   },
   {
    "duration": 13,
    "start_time": "2022-05-12T12:32:00.854Z"
   },
   {
    "duration": 14,
    "start_time": "2022-05-12T12:32:49.466Z"
   },
   {
    "duration": 16,
    "start_time": "2022-05-12T12:32:53.568Z"
   },
   {
    "duration": 16,
    "start_time": "2022-05-12T12:33:14.053Z"
   },
   {
    "duration": 13,
    "start_time": "2022-05-12T12:34:40.256Z"
   },
   {
    "duration": 105,
    "start_time": "2022-05-12T12:35:53.366Z"
   },
   {
    "duration": 12,
    "start_time": "2022-05-12T12:35:58.979Z"
   },
   {
    "duration": 19,
    "start_time": "2022-05-12T12:36:05.923Z"
   },
   {
    "duration": 49,
    "start_time": "2022-05-12T12:37:51.462Z"
   },
   {
    "duration": 53,
    "start_time": "2022-05-12T12:38:26.470Z"
   },
   {
    "duration": 5,
    "start_time": "2022-05-12T12:44:43.460Z"
   },
   {
    "duration": 15,
    "start_time": "2022-05-12T12:46:45.613Z"
   },
   {
    "duration": 105,
    "start_time": "2022-05-12T12:47:11.271Z"
   },
   {
    "duration": 13,
    "start_time": "2022-05-12T12:47:17.313Z"
   },
   {
    "duration": 5,
    "start_time": "2022-05-12T12:52:28.422Z"
   },
   {
    "duration": 5,
    "start_time": "2022-05-12T12:53:24.126Z"
   },
   {
    "duration": 1521,
    "start_time": "2022-05-12T12:53:25.989Z"
   },
   {
    "duration": 4,
    "start_time": "2022-05-12T12:53:39.744Z"
   },
   {
    "duration": 14,
    "start_time": "2022-05-12T12:53:40.806Z"
   },
   {
    "duration": 12,
    "start_time": "2022-05-12T13:14:49.366Z"
   },
   {
    "duration": 66,
    "start_time": "2022-05-12T13:14:50.140Z"
   },
   {
    "duration": 3,
    "start_time": "2022-05-12T13:15:02.212Z"
   },
   {
    "duration": 505,
    "start_time": "2022-05-12T13:15:06.940Z"
   },
   {
    "duration": 424,
    "start_time": "2022-05-12T13:15:07.448Z"
   },
   {
    "duration": 26,
    "start_time": "2022-05-12T13:15:07.875Z"
   },
   {
    "duration": 48,
    "start_time": "2022-05-12T13:15:07.904Z"
   },
   {
    "duration": 5,
    "start_time": "2022-05-12T13:15:08.571Z"
   },
   {
    "duration": 19,
    "start_time": "2022-05-12T13:15:08.979Z"
   },
   {
    "duration": 6,
    "start_time": "2022-05-12T13:15:09.267Z"
   },
   {
    "duration": 33,
    "start_time": "2022-05-12T13:15:09.556Z"
   },
   {
    "duration": 24,
    "start_time": "2022-05-12T13:15:09.971Z"
   },
   {
    "duration": 33,
    "start_time": "2022-05-12T13:15:10.487Z"
   },
   {
    "duration": 102,
    "start_time": "2022-05-12T13:15:10.779Z"
   },
   {
    "duration": 124,
    "start_time": "2022-05-12T13:15:11.102Z"
   },
   {
    "duration": 97,
    "start_time": "2022-05-12T13:15:11.396Z"
   },
   {
    "duration": 54,
    "start_time": "2022-05-12T13:15:12.036Z"
   },
   {
    "duration": 4,
    "start_time": "2022-05-12T13:15:13.091Z"
   },
   {
    "duration": 16,
    "start_time": "2022-05-12T13:15:14.236Z"
   },
   {
    "duration": 53,
    "start_time": "2022-05-12T13:15:47.564Z"
   },
   {
    "duration": 43,
    "start_time": "2022-05-12T15:58:27.855Z"
   },
   {
    "duration": 10,
    "start_time": "2022-05-12T15:59:30.828Z"
   },
   {
    "duration": 66,
    "start_time": "2022-05-12T15:59:48.605Z"
   },
   {
    "duration": 67,
    "start_time": "2022-05-12T15:59:51.998Z"
   },
   {
    "duration": 72,
    "start_time": "2022-05-12T16:00:00.496Z"
   },
   {
    "duration": 17,
    "start_time": "2022-05-12T16:00:20.609Z"
   },
   {
    "duration": 18,
    "start_time": "2022-05-12T16:00:29.518Z"
   },
   {
    "duration": 18,
    "start_time": "2022-05-12T16:03:01.593Z"
   },
   {
    "duration": 107,
    "start_time": "2022-05-12T16:03:33.324Z"
   },
   {
    "duration": 19,
    "start_time": "2022-05-12T16:03:37.693Z"
   },
   {
    "duration": 5,
    "start_time": "2022-05-12T16:14:05.875Z"
   },
   {
    "duration": 7,
    "start_time": "2022-05-12T16:14:26.244Z"
   },
   {
    "duration": 17,
    "start_time": "2022-05-12T16:14:56.970Z"
   },
   {
    "duration": 34,
    "start_time": "2022-05-12T16:15:22.017Z"
   },
   {
    "duration": 28,
    "start_time": "2022-05-12T16:17:38.645Z"
   },
   {
    "duration": 46,
    "start_time": "2022-05-12T16:17:40.067Z"
   },
   {
    "duration": 29,
    "start_time": "2022-05-12T16:17:40.577Z"
   },
   {
    "duration": 37,
    "start_time": "2022-05-12T16:17:41.025Z"
   },
   {
    "duration": 28,
    "start_time": "2022-05-12T16:17:41.463Z"
   },
   {
    "duration": 6,
    "start_time": "2022-05-12T16:18:48.952Z"
   },
   {
    "duration": 5,
    "start_time": "2022-05-12T16:18:53.273Z"
   },
   {
    "duration": 5,
    "start_time": "2022-05-12T16:19:03.294Z"
   },
   {
    "duration": 5,
    "start_time": "2022-05-12T16:21:13.851Z"
   },
   {
    "duration": 1378,
    "start_time": "2022-05-12T16:21:14.933Z"
   },
   {
    "duration": 0,
    "start_time": "2022-05-12T16:21:16.315Z"
   },
   {
    "duration": 0,
    "start_time": "2022-05-12T16:21:16.317Z"
   },
   {
    "duration": 1356,
    "start_time": "2022-05-12T16:21:40.264Z"
   },
   {
    "duration": 1217,
    "start_time": "2022-05-12T16:23:28.617Z"
   },
   {
    "duration": 5,
    "start_time": "2022-05-12T16:23:43.100Z"
   },
   {
    "duration": 36,
    "start_time": "2022-05-12T16:23:45.015Z"
   },
   {
    "duration": 41,
    "start_time": "2022-05-12T16:24:55.307Z"
   },
   {
    "duration": 37,
    "start_time": "2022-05-12T16:24:55.717Z"
   },
   {
    "duration": 45,
    "start_time": "2022-05-12T16:24:56.072Z"
   },
   {
    "duration": 38,
    "start_time": "2022-05-12T16:24:56.375Z"
   },
   {
    "duration": 47,
    "start_time": "2022-05-12T16:24:56.674Z"
   },
   {
    "duration": 41,
    "start_time": "2022-05-12T16:24:57.009Z"
   },
   {
    "duration": 7,
    "start_time": "2022-05-12T16:25:17.997Z"
   },
   {
    "duration": 32,
    "start_time": "2022-05-12T16:25:19.300Z"
   },
   {
    "duration": 30,
    "start_time": "2022-05-12T16:25:21.412Z"
   },
   {
    "duration": 30,
    "start_time": "2022-05-12T16:25:21.932Z"
   },
   {
    "duration": 27,
    "start_time": "2022-05-12T16:25:22.553Z"
   },
   {
    "duration": 33,
    "start_time": "2022-05-12T16:25:23.000Z"
   },
   {
    "duration": 29,
    "start_time": "2022-05-12T16:25:23.417Z"
   },
   {
    "duration": 4,
    "start_time": "2022-05-12T16:25:24.293Z"
   },
   {
    "duration": 5,
    "start_time": "2022-05-12T16:26:10.143Z"
   },
   {
    "duration": 1336,
    "start_time": "2022-05-12T16:26:11.045Z"
   },
   {
    "duration": 0,
    "start_time": "2022-05-12T16:26:12.383Z"
   },
   {
    "duration": 0,
    "start_time": "2022-05-12T16:26:12.384Z"
   },
   {
    "duration": 5,
    "start_time": "2022-05-12T16:26:43.778Z"
   },
   {
    "duration": 50,
    "start_time": "2022-05-12T16:26:44.403Z"
   },
   {
    "duration": 5,
    "start_time": "2022-05-12T16:27:04.035Z"
   },
   {
    "duration": 41,
    "start_time": "2022-05-12T16:27:04.871Z"
   },
   {
    "duration": 4,
    "start_time": "2022-05-12T16:27:20.515Z"
   },
   {
    "duration": 1655,
    "start_time": "2022-05-12T16:27:21.274Z"
   },
   {
    "duration": 14,
    "start_time": "2022-05-12T16:27:50.063Z"
   },
   {
    "duration": 1208,
    "start_time": "2022-05-12T16:27:50.898Z"
   },
   {
    "duration": 7,
    "start_time": "2022-05-12T16:28:28.587Z"
   },
   {
    "duration": 1374,
    "start_time": "2022-05-12T16:28:29.378Z"
   },
   {
    "duration": 6,
    "start_time": "2022-05-12T16:29:01.318Z"
   },
   {
    "duration": 1300,
    "start_time": "2022-05-12T16:29:02.148Z"
   },
   {
    "duration": 8,
    "start_time": "2022-05-12T16:29:23.225Z"
   },
   {
    "duration": 1547,
    "start_time": "2022-05-12T16:29:24.074Z"
   },
   {
    "duration": 7,
    "start_time": "2022-05-12T16:29:47.792Z"
   },
   {
    "duration": 1689,
    "start_time": "2022-05-12T16:29:48.633Z"
   },
   {
    "duration": 6,
    "start_time": "2022-05-12T16:31:22.064Z"
   },
   {
    "duration": 55,
    "start_time": "2022-05-12T16:31:22.856Z"
   },
   {
    "duration": 7,
    "start_time": "2022-05-12T16:31:57.917Z"
   },
   {
    "duration": 1363,
    "start_time": "2022-05-12T16:31:58.884Z"
   },
   {
    "duration": 5,
    "start_time": "2022-05-12T16:32:06.889Z"
   },
   {
    "duration": 1311,
    "start_time": "2022-05-12T16:32:07.497Z"
   },
   {
    "duration": 6,
    "start_time": "2022-05-12T16:32:51.717Z"
   },
   {
    "duration": 1355,
    "start_time": "2022-05-12T16:32:53.254Z"
   },
   {
    "duration": 5,
    "start_time": "2022-05-12T16:33:32.568Z"
   },
   {
    "duration": 1577,
    "start_time": "2022-05-12T16:33:33.240Z"
   },
   {
    "duration": 5,
    "start_time": "2022-05-12T16:33:53.066Z"
   },
   {
    "duration": 36,
    "start_time": "2022-05-12T16:33:53.871Z"
   },
   {
    "duration": 14,
    "start_time": "2022-05-12T16:33:59.808Z"
   },
   {
    "duration": 1440,
    "start_time": "2022-05-12T16:34:00.580Z"
   },
   {
    "duration": 8,
    "start_time": "2022-05-12T16:35:09.628Z"
   },
   {
    "duration": 1506,
    "start_time": "2022-05-12T16:35:10.714Z"
   },
   {
    "duration": 7,
    "start_time": "2022-05-12T16:39:59.084Z"
   },
   {
    "duration": 1287,
    "start_time": "2022-05-12T16:40:00.134Z"
   },
   {
    "duration": 116,
    "start_time": "2022-05-12T16:40:08.984Z"
   },
   {
    "duration": 5,
    "start_time": "2022-05-12T16:40:14.034Z"
   },
   {
    "duration": 30,
    "start_time": "2022-05-12T16:40:14.836Z"
   },
   {
    "duration": 27,
    "start_time": "2022-05-12T16:40:16.521Z"
   },
   {
    "duration": 29,
    "start_time": "2022-05-12T16:40:17.020Z"
   },
   {
    "duration": 26,
    "start_time": "2022-05-12T16:40:17.353Z"
   },
   {
    "duration": 31,
    "start_time": "2022-05-12T16:40:17.994Z"
   },
   {
    "duration": 30,
    "start_time": "2022-05-12T16:40:18.421Z"
   },
   {
    "duration": 6,
    "start_time": "2022-05-12T16:42:23.137Z"
   },
   {
    "duration": 37,
    "start_time": "2022-05-12T16:42:23.808Z"
   },
   {
    "duration": 5,
    "start_time": "2022-05-12T16:42:59.235Z"
   },
   {
    "duration": 37,
    "start_time": "2022-05-12T16:42:59.985Z"
   },
   {
    "duration": 95,
    "start_time": "2022-05-12T16:46:54.691Z"
   },
   {
    "duration": 6,
    "start_time": "2022-05-12T16:47:18.371Z"
   },
   {
    "duration": 3283,
    "start_time": "2022-05-12T16:47:19.498Z"
   },
   {
    "duration": 6,
    "start_time": "2022-05-12T16:48:08.516Z"
   },
   {
    "duration": 38,
    "start_time": "2022-05-12T16:48:09.987Z"
   },
   {
    "duration": 7,
    "start_time": "2022-05-12T16:49:57.092Z"
   },
   {
    "duration": 56,
    "start_time": "2022-05-12T16:49:57.966Z"
   },
   {
    "duration": 6,
    "start_time": "2022-05-12T16:50:11.479Z"
   },
   {
    "duration": 51,
    "start_time": "2022-05-12T16:50:12.508Z"
   },
   {
    "duration": 6,
    "start_time": "2022-05-12T16:50:36.003Z"
   },
   {
    "duration": 46,
    "start_time": "2022-05-12T16:50:36.976Z"
   },
   {
    "duration": 5,
    "start_time": "2022-05-12T16:55:47.001Z"
   },
   {
    "duration": 1337,
    "start_time": "2022-05-12T16:55:48.025Z"
   },
   {
    "duration": 5,
    "start_time": "2022-05-12T16:56:12.540Z"
   },
   {
    "duration": 1347,
    "start_time": "2022-05-12T16:56:14.073Z"
   },
   {
    "duration": 5,
    "start_time": "2022-05-12T16:56:50.238Z"
   },
   {
    "duration": 39,
    "start_time": "2022-05-12T16:56:51.426Z"
   },
   {
    "duration": 5,
    "start_time": "2022-05-12T16:57:09.152Z"
   },
   {
    "duration": 32,
    "start_time": "2022-05-12T16:57:10.073Z"
   },
   {
    "duration": 34,
    "start_time": "2022-05-12T16:57:11.119Z"
   },
   {
    "duration": 31,
    "start_time": "2022-05-12T16:57:11.592Z"
   },
   {
    "duration": 34,
    "start_time": "2022-05-12T16:57:12.016Z"
   },
   {
    "duration": 32,
    "start_time": "2022-05-12T16:57:12.472Z"
   },
   {
    "duration": 27,
    "start_time": "2022-05-12T16:57:12.967Z"
   },
   {
    "duration": 5,
    "start_time": "2022-05-12T16:57:41.393Z"
   },
   {
    "duration": 41,
    "start_time": "2022-05-12T16:57:42.361Z"
   },
   {
    "duration": 46,
    "start_time": "2022-05-12T16:57:47.705Z"
   },
   {
    "duration": 44,
    "start_time": "2022-05-12T16:57:48.420Z"
   },
   {
    "duration": 40,
    "start_time": "2022-05-12T16:57:49.120Z"
   },
   {
    "duration": 43,
    "start_time": "2022-05-12T16:57:49.572Z"
   },
   {
    "duration": 39,
    "start_time": "2022-05-12T16:57:49.978Z"
   },
   {
    "duration": 7,
    "start_time": "2022-05-12T16:59:08.501Z"
   },
   {
    "duration": 56,
    "start_time": "2022-05-12T16:59:09.589Z"
   },
   {
    "duration": 31,
    "start_time": "2022-05-12T16:59:10.269Z"
   },
   {
    "duration": 38,
    "start_time": "2022-05-12T16:59:10.699Z"
   },
   {
    "duration": 28,
    "start_time": "2022-05-12T16:59:11.084Z"
   },
   {
    "duration": 31,
    "start_time": "2022-05-12T16:59:11.461Z"
   },
   {
    "duration": 34,
    "start_time": "2022-05-12T16:59:11.817Z"
   },
   {
    "duration": 5,
    "start_time": "2022-05-12T16:59:56.720Z"
   },
   {
    "duration": 2057,
    "start_time": "2022-05-12T16:59:57.480Z"
   },
   {
    "duration": 0,
    "start_time": "2022-05-12T16:59:59.539Z"
   },
   {
    "duration": 5,
    "start_time": "2022-05-12T17:01:08.051Z"
   },
   {
    "duration": 32,
    "start_time": "2022-05-12T17:01:08.852Z"
   },
   {
    "duration": 28,
    "start_time": "2022-05-12T17:01:09.444Z"
   },
   {
    "duration": 31,
    "start_time": "2022-05-12T17:01:09.776Z"
   },
   {
    "duration": 36,
    "start_time": "2022-05-12T17:01:10.063Z"
   },
   {
    "duration": 48,
    "start_time": "2022-05-12T17:01:10.360Z"
   },
   {
    "duration": 35,
    "start_time": "2022-05-12T17:01:10.684Z"
   },
   {
    "duration": 25,
    "start_time": "2022-05-12T17:14:25.245Z"
   },
   {
    "duration": 101,
    "start_time": "2022-05-12T17:21:54.549Z"
   },
   {
    "duration": 13,
    "start_time": "2022-05-12T17:22:15.521Z"
   },
   {
    "duration": 5,
    "start_time": "2022-05-12T17:32:34.475Z"
   },
   {
    "duration": 28,
    "start_time": "2022-05-12T17:32:35.386Z"
   },
   {
    "duration": 20,
    "start_time": "2022-05-12T17:32:35.828Z"
   },
   {
    "duration": 39,
    "start_time": "2022-05-12T17:32:36.236Z"
   },
   {
    "duration": 21,
    "start_time": "2022-05-12T17:32:36.487Z"
   },
   {
    "duration": 29,
    "start_time": "2022-05-12T17:32:36.886Z"
   },
   {
    "duration": 20,
    "start_time": "2022-05-12T17:32:37.212Z"
   },
   {
    "duration": 12,
    "start_time": "2022-05-12T17:33:42.614Z"
   },
   {
    "duration": 17,
    "start_time": "2022-05-12T17:50:23.032Z"
   },
   {
    "duration": 10,
    "start_time": "2022-05-12T17:51:17.760Z"
   },
   {
    "duration": 107,
    "start_time": "2022-05-12T18:04:08.454Z"
   },
   {
    "duration": 106,
    "start_time": "2022-05-12T18:05:46.491Z"
   },
   {
    "duration": 6,
    "start_time": "2022-05-12T18:05:57.763Z"
   },
   {
    "duration": 9,
    "start_time": "2022-05-12T18:07:59.444Z"
   },
   {
    "duration": 7,
    "start_time": "2022-05-12T18:08:37.868Z"
   },
   {
    "duration": 1244,
    "start_time": "2022-05-12T18:10:45.446Z"
   },
   {
    "duration": 0,
    "start_time": "2022-05-12T18:10:46.693Z"
   },
   {
    "duration": 8,
    "start_time": "2022-05-12T18:14:44.569Z"
   },
   {
    "duration": 1234,
    "start_time": "2022-05-12T18:14:45.336Z"
   },
   {
    "duration": 0,
    "start_time": "2022-05-12T18:14:46.572Z"
   },
   {
    "duration": 0,
    "start_time": "2022-05-12T18:14:46.574Z"
   },
   {
    "duration": 7,
    "start_time": "2022-05-12T18:15:26.114Z"
   },
   {
    "duration": 1226,
    "start_time": "2022-05-12T18:15:28.078Z"
   },
   {
    "duration": 7,
    "start_time": "2022-05-12T18:15:38.975Z"
   },
   {
    "duration": 53,
    "start_time": "2022-05-12T18:15:40.007Z"
   },
   {
    "duration": 34,
    "start_time": "2022-05-12T18:15:42.425Z"
   },
   {
    "duration": 8,
    "start_time": "2022-05-12T18:15:53.330Z"
   },
   {
    "duration": 51,
    "start_time": "2022-05-12T18:15:54.129Z"
   },
   {
    "duration": 34,
    "start_time": "2022-05-12T18:15:54.854Z"
   },
   {
    "duration": 4,
    "start_time": "2022-05-12T18:15:57.640Z"
   },
   {
    "duration": 6,
    "start_time": "2022-05-12T18:17:44.321Z"
   },
   {
    "duration": 34,
    "start_time": "2022-05-12T18:17:44.988Z"
   },
   {
    "duration": 46,
    "start_time": "2022-05-12T18:17:45.824Z"
   },
   {
    "duration": 8,
    "start_time": "2022-05-12T18:18:48.333Z"
   },
   {
    "duration": 30,
    "start_time": "2022-05-12T18:18:49.199Z"
   },
   {
    "duration": 30,
    "start_time": "2022-05-12T18:18:51.232Z"
   },
   {
    "duration": 6,
    "start_time": "2022-05-12T18:20:58.209Z"
   },
   {
    "duration": 31,
    "start_time": "2022-05-12T18:20:58.828Z"
   },
   {
    "duration": 31,
    "start_time": "2022-05-12T18:20:59.441Z"
   },
   {
    "duration": 30,
    "start_time": "2022-05-12T18:21:07.905Z"
   },
   {
    "duration": 6,
    "start_time": "2022-05-12T18:21:21.147Z"
   },
   {
    "duration": 32,
    "start_time": "2022-05-12T18:21:21.794Z"
   },
   {
    "duration": 30,
    "start_time": "2022-05-12T18:21:22.229Z"
   },
   {
    "duration": 6,
    "start_time": "2022-05-12T18:21:36.901Z"
   },
   {
    "duration": 41,
    "start_time": "2022-05-12T18:21:37.715Z"
   },
   {
    "duration": 37,
    "start_time": "2022-05-12T18:21:47.861Z"
   },
   {
    "duration": 6,
    "start_time": "2022-05-12T18:29:17.656Z"
   },
   {
    "duration": 38,
    "start_time": "2022-05-12T18:29:18.848Z"
   },
   {
    "duration": 6,
    "start_time": "2022-05-12T18:30:58.790Z"
   },
   {
    "duration": 38,
    "start_time": "2022-05-12T18:30:59.643Z"
   },
   {
    "duration": 6,
    "start_time": "2022-05-12T18:33:53.627Z"
   },
   {
    "duration": 38,
    "start_time": "2022-05-12T18:33:54.433Z"
   },
   {
    "duration": 5,
    "start_time": "2022-05-12T18:34:03.275Z"
   },
   {
    "duration": 33,
    "start_time": "2022-05-12T18:34:04.015Z"
   },
   {
    "duration": 32,
    "start_time": "2022-05-12T18:34:05.664Z"
   },
   {
    "duration": 34,
    "start_time": "2022-05-12T18:34:06.162Z"
   },
   {
    "duration": 33,
    "start_time": "2022-05-12T18:35:01.553Z"
   },
   {
    "duration": 18,
    "start_time": "2022-05-12T18:37:34.004Z"
   },
   {
    "duration": 14,
    "start_time": "2022-05-12T18:39:29.933Z"
   },
   {
    "duration": 13,
    "start_time": "2022-05-12T18:40:26.279Z"
   },
   {
    "duration": 16,
    "start_time": "2022-05-12T18:40:55.543Z"
   },
   {
    "duration": 13,
    "start_time": "2022-05-12T18:41:19.733Z"
   },
   {
    "duration": 14,
    "start_time": "2022-05-12T18:43:32.853Z"
   },
   {
    "duration": 10,
    "start_time": "2022-05-12T18:43:41.763Z"
   },
   {
    "duration": 113,
    "start_time": "2022-05-12T18:43:50.238Z"
   },
   {
    "duration": 13,
    "start_time": "2022-05-12T18:43:57.319Z"
   },
   {
    "duration": 7,
    "start_time": "2022-05-12T18:45:16.121Z"
   },
   {
    "duration": 1375,
    "start_time": "2022-05-12T18:45:17.161Z"
   },
   {
    "duration": 0,
    "start_time": "2022-05-12T18:45:18.539Z"
   },
   {
    "duration": 3,
    "start_time": "2022-05-12T18:45:46.556Z"
   },
   {
    "duration": 307,
    "start_time": "2022-05-12T18:45:49.053Z"
   },
   {
    "duration": 24,
    "start_time": "2022-05-12T18:45:49.363Z"
   },
   {
    "duration": 67,
    "start_time": "2022-05-12T18:45:49.570Z"
   },
   {
    "duration": 6,
    "start_time": "2022-05-12T18:45:50.204Z"
   },
   {
    "duration": 16,
    "start_time": "2022-05-12T18:45:50.596Z"
   },
   {
    "duration": 6,
    "start_time": "2022-05-12T18:45:50.839Z"
   },
   {
    "duration": 53,
    "start_time": "2022-05-12T18:45:51.107Z"
   },
   {
    "duration": 30,
    "start_time": "2022-05-12T18:45:51.490Z"
   },
   {
    "duration": 34,
    "start_time": "2022-05-12T18:45:51.751Z"
   },
   {
    "duration": 103,
    "start_time": "2022-05-12T18:45:52.032Z"
   },
   {
    "duration": 105,
    "start_time": "2022-05-12T18:45:52.283Z"
   },
   {
    "duration": 94,
    "start_time": "2022-05-12T18:45:52.559Z"
   },
   {
    "duration": 53,
    "start_time": "2022-05-12T18:45:52.971Z"
   },
   {
    "duration": 5,
    "start_time": "2022-05-12T18:45:53.240Z"
   },
   {
    "duration": 14,
    "start_time": "2022-05-12T18:45:53.512Z"
   },
   {
    "duration": 54,
    "start_time": "2022-05-12T18:45:53.787Z"
   },
   {
    "duration": 20,
    "start_time": "2022-05-12T18:45:54.765Z"
   },
   {
    "duration": 17,
    "start_time": "2022-05-12T18:45:56.814Z"
   },
   {
    "duration": 6,
    "start_time": "2022-05-12T18:45:58.800Z"
   },
   {
    "duration": 41,
    "start_time": "2022-05-12T18:45:59.640Z"
   },
   {
    "duration": 30,
    "start_time": "2022-05-12T18:46:00.278Z"
   },
   {
    "duration": 39,
    "start_time": "2022-05-12T18:46:00.831Z"
   },
   {
    "duration": 28,
    "start_time": "2022-05-12T18:46:03.169Z"
   },
   {
    "duration": 31,
    "start_time": "2022-05-12T18:46:03.808Z"
   },
   {
    "duration": 25,
    "start_time": "2022-05-12T18:46:04.370Z"
   },
   {
    "duration": 14,
    "start_time": "2022-05-12T18:46:06.078Z"
   },
   {
    "duration": 15,
    "start_time": "2022-05-12T18:46:09.483Z"
   },
   {
    "duration": 9,
    "start_time": "2022-05-12T18:46:10.016Z"
   },
   {
    "duration": 9,
    "start_time": "2022-05-12T18:46:11.937Z"
   },
   {
    "duration": 1391,
    "start_time": "2022-05-12T18:46:13.337Z"
   },
   {
    "duration": 7,
    "start_time": "2022-05-12T18:46:58.107Z"
   },
   {
    "duration": 34,
    "start_time": "2022-05-12T18:46:58.948Z"
   },
   {
    "duration": 34,
    "start_time": "2022-05-12T18:46:59.560Z"
   },
   {
    "duration": 33,
    "start_time": "2022-05-12T18:46:59.996Z"
   },
   {
    "duration": 32,
    "start_time": "2022-05-12T18:47:00.415Z"
   },
   {
    "duration": 14,
    "start_time": "2022-05-12T18:47:15.382Z"
   },
   {
    "duration": 15,
    "start_time": "2022-05-12T18:48:03.924Z"
   },
   {
    "duration": 14,
    "start_time": "2022-05-12T18:48:13.088Z"
   },
   {
    "duration": 14,
    "start_time": "2022-05-12T18:48:44.737Z"
   },
   {
    "duration": 15,
    "start_time": "2022-05-12T18:48:50.132Z"
   },
   {
    "duration": 13,
    "start_time": "2022-05-12T18:51:44.346Z"
   },
   {
    "duration": 12,
    "start_time": "2022-05-12T18:51:55.825Z"
   },
   {
    "duration": 14,
    "start_time": "2022-05-12T18:52:04.982Z"
   },
   {
    "duration": 13,
    "start_time": "2022-05-12T18:53:59.239Z"
   },
   {
    "duration": 15,
    "start_time": "2022-05-12T18:56:15.648Z"
   },
   {
    "duration": 11,
    "start_time": "2022-05-12T18:56:22.622Z"
   },
   {
    "duration": 10,
    "start_time": "2022-05-12T18:56:34.515Z"
   },
   {
    "duration": 16,
    "start_time": "2022-05-12T18:56:40.509Z"
   },
   {
    "duration": 11,
    "start_time": "2022-05-12T18:56:56.510Z"
   },
   {
    "duration": 11,
    "start_time": "2022-05-12T18:57:05.420Z"
   },
   {
    "duration": 108,
    "start_time": "2022-05-12T18:57:24.160Z"
   },
   {
    "duration": 15,
    "start_time": "2022-05-12T18:57:31.423Z"
   },
   {
    "duration": 16,
    "start_time": "2022-05-12T18:59:40.751Z"
   },
   {
    "duration": 10,
    "start_time": "2022-05-12T18:59:41.409Z"
   },
   {
    "duration": 9,
    "start_time": "2022-05-12T18:59:47.749Z"
   },
   {
    "duration": 7,
    "start_time": "2022-05-12T18:59:49.267Z"
   },
   {
    "duration": 34,
    "start_time": "2022-05-12T18:59:50.964Z"
   },
   {
    "duration": 45,
    "start_time": "2022-05-12T18:59:52.490Z"
   },
   {
    "duration": 32,
    "start_time": "2022-05-12T18:59:53.013Z"
   },
   {
    "duration": 41,
    "start_time": "2022-05-12T18:59:53.895Z"
   },
   {
    "duration": 38,
    "start_time": "2022-05-12T18:59:57.512Z"
   },
   {
    "duration": 41,
    "start_time": "2022-05-12T19:00:13.074Z"
   },
   {
    "duration": 38,
    "start_time": "2022-05-12T19:01:19.860Z"
   },
   {
    "duration": 34,
    "start_time": "2022-05-12T19:02:08.354Z"
   },
   {
    "duration": 20,
    "start_time": "2022-05-12T19:02:32.828Z"
   },
   {
    "duration": 39,
    "start_time": "2022-05-12T19:03:11.977Z"
   },
   {
    "duration": 10,
    "start_time": "2022-05-12T19:06:13.836Z"
   },
   {
    "duration": 34,
    "start_time": "2022-05-12T19:06:27.706Z"
   },
   {
    "duration": 12,
    "start_time": "2022-05-12T19:06:29.743Z"
   },
   {
    "duration": 43,
    "start_time": "2022-05-12T19:06:46.780Z"
   },
   {
    "duration": 34,
    "start_time": "2022-05-12T19:06:52.358Z"
   },
   {
    "duration": 12,
    "start_time": "2022-05-12T19:06:53.264Z"
   },
   {
    "duration": 19,
    "start_time": "2022-05-12T19:07:18.038Z"
   },
   {
    "duration": 1800,
    "start_time": "2022-05-12T19:09:06.374Z"
   },
   {
    "duration": 0,
    "start_time": "2022-05-12T19:09:08.177Z"
   },
   {
    "duration": 35,
    "start_time": "2022-05-12T19:09:27.592Z"
   },
   {
    "duration": 13,
    "start_time": "2022-05-12T19:09:33.175Z"
   },
   {
    "duration": 73,
    "start_time": "2022-05-12T19:09:58.250Z"
   },
   {
    "duration": 9,
    "start_time": "2022-05-12T19:10:26.990Z"
   },
   {
    "duration": 10,
    "start_time": "2022-05-12T19:10:38.088Z"
   },
   {
    "duration": 8,
    "start_time": "2022-05-12T19:11:13.435Z"
   },
   {
    "duration": 8,
    "start_time": "2022-05-12T19:11:14.094Z"
   },
   {
    "duration": 8,
    "start_time": "2022-05-12T19:11:32.681Z"
   },
   {
    "duration": 9,
    "start_time": "2022-05-12T19:11:33.453Z"
   },
   {
    "duration": 12,
    "start_time": "2022-05-12T19:11:41.007Z"
   },
   {
    "duration": 15,
    "start_time": "2022-05-12T19:11:52.454Z"
   },
   {
    "duration": 7,
    "start_time": "2022-05-12T19:11:57.583Z"
   },
   {
    "duration": 9,
    "start_time": "2022-05-12T19:11:58.998Z"
   },
   {
    "duration": 8,
    "start_time": "2022-05-12T19:12:04.975Z"
   },
   {
    "duration": 8,
    "start_time": "2022-05-12T19:12:05.728Z"
   },
   {
    "duration": 10,
    "start_time": "2022-05-12T19:12:39.996Z"
   },
   {
    "duration": 7,
    "start_time": "2022-05-12T19:13:42.752Z"
   },
   {
    "duration": 9,
    "start_time": "2022-05-12T19:13:43.516Z"
   },
   {
    "duration": 6,
    "start_time": "2022-05-12T19:13:52.745Z"
   },
   {
    "duration": 10,
    "start_time": "2022-05-12T19:14:02.800Z"
   },
   {
    "duration": 2667,
    "start_time": "2022-05-12T19:15:04.868Z"
   },
   {
    "duration": 4,
    "start_time": "2022-05-12T19:15:13.153Z"
   },
   {
    "duration": 16,
    "start_time": "2022-05-12T19:15:35.318Z"
   },
   {
    "duration": 8,
    "start_time": "2022-05-12T19:16:08.119Z"
   },
   {
    "duration": 9,
    "start_time": "2022-05-12T19:16:09.503Z"
   },
   {
    "duration": 10,
    "start_time": "2022-05-12T19:16:27.014Z"
   },
   {
    "duration": 11,
    "start_time": "2022-05-12T19:16:35.109Z"
   },
   {
    "duration": 9,
    "start_time": "2022-05-12T19:17:06.923Z"
   },
   {
    "duration": 4,
    "start_time": "2022-05-12T19:17:12.673Z"
   },
   {
    "duration": 218,
    "start_time": "2022-05-12T19:17:13.097Z"
   },
   {
    "duration": 16,
    "start_time": "2022-05-12T19:17:13.433Z"
   },
   {
    "duration": 45,
    "start_time": "2022-05-12T19:17:13.869Z"
   },
   {
    "duration": 5,
    "start_time": "2022-05-12T19:17:14.668Z"
   },
   {
    "duration": 13,
    "start_time": "2022-05-12T19:17:15.125Z"
   },
   {
    "duration": 5,
    "start_time": "2022-05-12T19:17:15.419Z"
   },
   {
    "duration": 35,
    "start_time": "2022-05-12T19:17:16.007Z"
   },
   {
    "duration": 28,
    "start_time": "2022-05-12T19:17:16.613Z"
   },
   {
    "duration": 35,
    "start_time": "2022-05-12T19:17:16.924Z"
   },
   {
    "duration": 103,
    "start_time": "2022-05-12T19:17:17.382Z"
   },
   {
    "duration": 108,
    "start_time": "2022-05-12T19:17:17.801Z"
   },
   {
    "duration": 99,
    "start_time": "2022-05-12T19:17:18.240Z"
   },
   {
    "duration": 52,
    "start_time": "2022-05-12T19:17:19.001Z"
   },
   {
    "duration": 4,
    "start_time": "2022-05-12T19:17:19.479Z"
   },
   {
    "duration": 14,
    "start_time": "2022-05-12T19:17:19.989Z"
   },
   {
    "duration": 53,
    "start_time": "2022-05-12T19:17:20.468Z"
   },
   {
    "duration": 19,
    "start_time": "2022-05-12T19:17:21.955Z"
   },
   {
    "duration": 22,
    "start_time": "2022-05-12T19:17:22.361Z"
   },
   {
    "duration": 6,
    "start_time": "2022-05-12T19:17:23.094Z"
   },
   {
    "duration": 33,
    "start_time": "2022-05-12T19:17:23.756Z"
   },
   {
    "duration": 23,
    "start_time": "2022-05-12T19:17:24.109Z"
   },
   {
    "duration": 39,
    "start_time": "2022-05-12T19:17:24.520Z"
   },
   {
    "duration": 31,
    "start_time": "2022-05-12T19:17:24.925Z"
   },
   {
    "duration": 44,
    "start_time": "2022-05-12T19:17:25.362Z"
   },
   {
    "duration": 21,
    "start_time": "2022-05-12T19:17:25.781Z"
   },
   {
    "duration": 13,
    "start_time": "2022-05-12T19:17:29.740Z"
   },
   {
    "duration": 17,
    "start_time": "2022-05-12T19:17:32.229Z"
   },
   {
    "duration": 15,
    "start_time": "2022-05-12T19:17:33.045Z"
   },
   {
    "duration": 7,
    "start_time": "2022-05-12T19:17:37.724Z"
   },
   {
    "duration": 35,
    "start_time": "2022-05-12T19:17:39.727Z"
   },
   {
    "duration": 34,
    "start_time": "2022-05-12T19:17:41.581Z"
   },
   {
    "duration": 35,
    "start_time": "2022-05-12T19:17:45.187Z"
   },
   {
    "duration": 35,
    "start_time": "2022-05-12T19:17:46.770Z"
   },
   {
    "duration": 37,
    "start_time": "2022-05-12T19:17:50.493Z"
   },
   {
    "duration": 13,
    "start_time": "2022-05-12T19:17:51.414Z"
   },
   {
    "duration": 10,
    "start_time": "2022-05-12T19:17:52.756Z"
   },
   {
    "duration": 9,
    "start_time": "2022-05-12T19:17:55.142Z"
   },
   {
    "duration": 6,
    "start_time": "2022-05-12T19:18:14.764Z"
   },
   {
    "duration": 10,
    "start_time": "2022-05-12T19:18:15.586Z"
   },
   {
    "duration": 7,
    "start_time": "2022-05-12T19:20:43.630Z"
   },
   {
    "duration": 33,
    "start_time": "2022-05-12T19:20:44.712Z"
   },
   {
    "duration": 7,
    "start_time": "2022-05-12T19:20:53.059Z"
   },
   {
    "duration": 35,
    "start_time": "2022-05-12T19:20:53.736Z"
   },
   {
    "duration": 7,
    "start_time": "2022-05-12T19:21:27.423Z"
   },
   {
    "duration": 8,
    "start_time": "2022-05-12T19:21:28.113Z"
   },
   {
    "duration": 4,
    "start_time": "2022-05-12T19:48:39.610Z"
   },
   {
    "duration": 220,
    "start_time": "2022-05-12T19:48:39.966Z"
   },
   {
    "duration": 17,
    "start_time": "2022-05-12T19:48:40.398Z"
   },
   {
    "duration": 44,
    "start_time": "2022-05-12T19:48:40.638Z"
   },
   {
    "duration": 5,
    "start_time": "2022-05-12T19:48:41.412Z"
   },
   {
    "duration": 14,
    "start_time": "2022-05-12T19:48:41.891Z"
   },
   {
    "duration": 5,
    "start_time": "2022-05-12T19:48:42.187Z"
   },
   {
    "duration": 38,
    "start_time": "2022-05-12T19:48:42.473Z"
   },
   {
    "duration": 25,
    "start_time": "2022-05-12T19:48:42.959Z"
   },
   {
    "duration": 34,
    "start_time": "2022-05-12T19:48:43.222Z"
   },
   {
    "duration": 103,
    "start_time": "2022-05-12T19:48:43.530Z"
   },
   {
    "duration": 105,
    "start_time": "2022-05-12T19:48:44.347Z"
   },
   {
    "duration": 104,
    "start_time": "2022-05-12T19:48:45.381Z"
   },
   {
    "duration": 62,
    "start_time": "2022-05-12T19:48:45.487Z"
   },
   {
    "duration": 4,
    "start_time": "2022-05-12T19:48:45.551Z"
   },
   {
    "duration": 15,
    "start_time": "2022-05-12T19:48:45.634Z"
   },
   {
    "duration": 55,
    "start_time": "2022-05-12T19:48:45.891Z"
   },
   {
    "duration": 22,
    "start_time": "2022-05-12T19:48:46.742Z"
   },
   {
    "duration": 21,
    "start_time": "2022-05-12T19:48:47.073Z"
   },
   {
    "duration": 6,
    "start_time": "2022-05-12T19:48:47.687Z"
   },
   {
    "duration": 31,
    "start_time": "2022-05-12T19:48:48.025Z"
   },
   {
    "duration": 23,
    "start_time": "2022-05-12T19:48:48.126Z"
   },
   {
    "duration": 30,
    "start_time": "2022-05-12T19:48:48.403Z"
   },
   {
    "duration": 21,
    "start_time": "2022-05-12T19:48:48.486Z"
   },
   {
    "duration": 29,
    "start_time": "2022-05-12T19:48:48.860Z"
   },
   {
    "duration": 20,
    "start_time": "2022-05-12T19:48:48.907Z"
   },
   {
    "duration": 13,
    "start_time": "2022-05-12T19:48:49.285Z"
   },
   {
    "duration": 17,
    "start_time": "2022-05-12T19:48:51.139Z"
   },
   {
    "duration": 10,
    "start_time": "2022-05-12T19:48:51.230Z"
   },
   {
    "duration": 6,
    "start_time": "2022-05-12T19:48:51.771Z"
   },
   {
    "duration": 34,
    "start_time": "2022-05-12T19:48:52.219Z"
   },
   {
    "duration": 34,
    "start_time": "2022-05-12T19:48:52.678Z"
   },
   {
    "duration": 30,
    "start_time": "2022-05-12T19:48:53.236Z"
   },
   {
    "duration": 31,
    "start_time": "2022-05-12T19:48:53.341Z"
   },
   {
    "duration": 37,
    "start_time": "2022-05-12T19:48:54.509Z"
   },
   {
    "duration": 13,
    "start_time": "2022-05-12T19:48:55.165Z"
   },
   {
    "duration": 8,
    "start_time": "2022-05-12T19:48:55.749Z"
   },
   {
    "duration": 10,
    "start_time": "2022-05-12T19:48:56.413Z"
   },
   {
    "duration": 12,
    "start_time": "2022-05-12T19:49:05.809Z"
   },
   {
    "duration": 15,
    "start_time": "2022-05-12T19:49:15.129Z"
   },
   {
    "duration": 7,
    "start_time": "2022-05-12T19:49:30.954Z"
   },
   {
    "duration": 10,
    "start_time": "2022-05-12T19:49:33.328Z"
   },
   {
    "duration": 1594,
    "start_time": "2022-05-12T19:50:21.172Z"
   },
   {
    "duration": 0,
    "start_time": "2022-05-12T19:50:22.769Z"
   },
   {
    "duration": 1967,
    "start_time": "2022-05-12T19:50:35.819Z"
   },
   {
    "duration": 0,
    "start_time": "2022-05-12T19:50:37.788Z"
   },
   {
    "duration": 10,
    "start_time": "2022-05-12T19:50:55.896Z"
   },
   {
    "duration": 8,
    "start_time": "2022-05-12T19:50:57.148Z"
   },
   {
    "duration": 14,
    "start_time": "2022-05-12T19:51:24.664Z"
   },
   {
    "duration": 1745,
    "start_time": "2022-05-12T19:51:35.989Z"
   },
   {
    "duration": 1,
    "start_time": "2022-05-12T19:51:37.736Z"
   },
   {
    "duration": 7,
    "start_time": "2022-05-12T19:51:53.334Z"
   },
   {
    "duration": 10,
    "start_time": "2022-05-12T19:51:54.417Z"
   },
   {
    "duration": 32,
    "start_time": "2022-05-12T19:53:27.716Z"
   },
   {
    "duration": 7,
    "start_time": "2022-05-12T19:53:35.132Z"
   },
   {
    "duration": 41,
    "start_time": "2022-05-12T19:53:35.986Z"
   },
   {
    "duration": 38,
    "start_time": "2022-05-12T19:53:37.167Z"
   },
   {
    "duration": 39,
    "start_time": "2022-05-12T19:53:38.063Z"
   },
   {
    "duration": 39,
    "start_time": "2022-05-12T19:53:39.689Z"
   },
   {
    "duration": 56,
    "start_time": "2022-05-12T19:53:43.139Z"
   },
   {
    "duration": 14,
    "start_time": "2022-05-12T19:53:45.451Z"
   },
   {
    "duration": 9,
    "start_time": "2022-05-12T19:53:49.093Z"
   },
   {
    "duration": 9,
    "start_time": "2022-05-12T19:53:49.877Z"
   },
   {
    "duration": 10,
    "start_time": "2022-05-12T19:54:40.361Z"
   },
   {
    "duration": 6,
    "start_time": "2022-05-12T19:54:41.304Z"
   },
   {
    "duration": 37,
    "start_time": "2022-05-12T19:54:42.130Z"
   },
   {
    "duration": 34,
    "start_time": "2022-05-12T19:54:42.526Z"
   },
   {
    "duration": 36,
    "start_time": "2022-05-12T19:54:43.076Z"
   },
   {
    "duration": 30,
    "start_time": "2022-05-12T19:54:43.586Z"
   },
   {
    "duration": 37,
    "start_time": "2022-05-12T19:54:45.578Z"
   },
   {
    "duration": 12,
    "start_time": "2022-05-12T19:54:46.475Z"
   },
   {
    "duration": 15,
    "start_time": "2022-05-12T19:54:47.445Z"
   },
   {
    "duration": 1926,
    "start_time": "2022-05-12T19:55:06.237Z"
   },
   {
    "duration": 0,
    "start_time": "2022-05-12T19:55:08.166Z"
   },
   {
    "duration": 0,
    "start_time": "2022-05-12T19:55:08.167Z"
   },
   {
    "duration": 0,
    "start_time": "2022-05-12T19:55:08.169Z"
   },
   {
    "duration": 0,
    "start_time": "2022-05-12T19:55:08.171Z"
   },
   {
    "duration": 32,
    "start_time": "2022-05-12T19:55:08.434Z"
   },
   {
    "duration": 38,
    "start_time": "2022-05-12T19:55:10.380Z"
   },
   {
    "duration": 12,
    "start_time": "2022-05-12T19:55:11.214Z"
   },
   {
    "duration": 14,
    "start_time": "2022-05-12T19:55:12.220Z"
   },
   {
    "duration": 9,
    "start_time": "2022-05-12T19:55:14.204Z"
   },
   {
    "duration": 8,
    "start_time": "2022-05-12T19:55:44.925Z"
   },
   {
    "duration": 10,
    "start_time": "2022-05-12T19:56:46.692Z"
   },
   {
    "duration": 6,
    "start_time": "2022-05-12T19:56:47.923Z"
   },
   {
    "duration": 33,
    "start_time": "2022-05-12T19:56:49.879Z"
   },
   {
    "duration": 33,
    "start_time": "2022-05-12T19:56:50.458Z"
   },
   {
    "duration": 33,
    "start_time": "2022-05-12T19:56:52.575Z"
   },
   {
    "duration": 30,
    "start_time": "2022-05-12T19:56:53.230Z"
   },
   {
    "duration": 36,
    "start_time": "2022-05-12T19:56:56.683Z"
   },
   {
    "duration": 11,
    "start_time": "2022-05-12T19:56:58.031Z"
   },
   {
    "duration": 7,
    "start_time": "2022-05-12T19:56:59.225Z"
   },
   {
    "duration": 9,
    "start_time": "2022-05-12T19:57:00.425Z"
   },
   {
    "duration": 10,
    "start_time": "2022-05-12T19:57:27.026Z"
   },
   {
    "duration": 8,
    "start_time": "2022-05-12T20:19:20.647Z"
   },
   {
    "duration": 3,
    "start_time": "2022-05-12T20:19:35.016Z"
   },
   {
    "duration": 45,
    "start_time": "2022-05-12T20:20:17.508Z"
   },
   {
    "duration": 78,
    "start_time": "2022-05-12T20:21:41.847Z"
   },
   {
    "duration": 409,
    "start_time": "2022-05-12T20:21:49.120Z"
   },
   {
    "duration": 159,
    "start_time": "2022-05-12T20:21:49.531Z"
   },
   {
    "duration": 24,
    "start_time": "2022-05-12T20:21:49.692Z"
   },
   {
    "duration": 32,
    "start_time": "2022-05-12T20:21:49.718Z"
   },
   {
    "duration": 3,
    "start_time": "2022-05-12T20:21:49.752Z"
   },
   {
    "duration": 6,
    "start_time": "2022-05-12T20:21:49.756Z"
   },
   {
    "duration": 16,
    "start_time": "2022-05-12T20:21:49.763Z"
   },
   {
    "duration": 28,
    "start_time": "2022-05-12T20:21:49.781Z"
   },
   {
    "duration": 25,
    "start_time": "2022-05-12T20:21:49.811Z"
   },
   {
    "duration": 19,
    "start_time": "2022-05-12T20:21:49.839Z"
   },
   {
    "duration": 4,
    "start_time": "2022-05-12T20:21:49.859Z"
   },
   {
    "duration": 51,
    "start_time": "2022-05-12T20:21:49.865Z"
   },
   {
    "duration": 69,
    "start_time": "2022-05-12T20:21:49.918Z"
   },
   {
    "duration": 89,
    "start_time": "2022-05-12T20:21:49.988Z"
   },
   {
    "duration": 74,
    "start_time": "2022-05-12T20:21:50.079Z"
   },
   {
    "duration": 40,
    "start_time": "2022-05-12T20:21:50.154Z"
   },
   {
    "duration": 3,
    "start_time": "2022-05-12T20:21:50.207Z"
   },
   {
    "duration": 12,
    "start_time": "2022-05-12T20:21:50.211Z"
   },
   {
    "duration": 41,
    "start_time": "2022-05-12T20:21:50.224Z"
   },
   {
    "duration": 13,
    "start_time": "2022-05-12T20:21:50.266Z"
   },
   {
    "duration": 34,
    "start_time": "2022-05-12T20:21:50.280Z"
   },
   {
    "duration": 3,
    "start_time": "2022-05-12T20:21:50.316Z"
   },
   {
    "duration": 24,
    "start_time": "2022-05-12T20:21:50.321Z"
   },
   {
    "duration": 13,
    "start_time": "2022-05-12T20:21:50.347Z"
   },
   {
    "duration": 17,
    "start_time": "2022-05-12T20:21:50.362Z"
   },
   {
    "duration": 38,
    "start_time": "2022-05-12T20:21:50.381Z"
   },
   {
    "duration": 18,
    "start_time": "2022-05-12T20:21:50.421Z"
   },
   {
    "duration": 13,
    "start_time": "2022-05-12T20:21:50.443Z"
   },
   {
    "duration": 8,
    "start_time": "2022-05-12T20:21:50.457Z"
   },
   {
    "duration": 40,
    "start_time": "2022-05-12T20:21:50.467Z"
   },
   {
    "duration": 6,
    "start_time": "2022-05-12T20:21:50.509Z"
   },
   {
    "duration": 6,
    "start_time": "2022-05-12T20:21:50.517Z"
   },
   {
    "duration": 28,
    "start_time": "2022-05-12T20:21:50.524Z"
   },
   {
    "duration": 22,
    "start_time": "2022-05-12T20:21:50.554Z"
   },
   {
    "duration": 43,
    "start_time": "2022-05-12T20:21:50.578Z"
   },
   {
    "duration": 22,
    "start_time": "2022-05-12T20:21:50.622Z"
   },
   {
    "duration": 23,
    "start_time": "2022-05-12T20:21:50.646Z"
   },
   {
    "duration": 8,
    "start_time": "2022-05-12T20:21:50.671Z"
   },
   {
    "duration": 5,
    "start_time": "2022-05-12T20:21:50.707Z"
   },
   {
    "duration": 8,
    "start_time": "2022-05-12T20:21:50.713Z"
   },
   {
    "duration": 12,
    "start_time": "2022-05-12T20:23:46.525Z"
   },
   {
    "duration": 16,
    "start_time": "2022-05-12T20:26:12.484Z"
   },
   {
    "duration": 8,
    "start_time": "2022-05-12T20:31:22.593Z"
   },
   {
    "duration": 9,
    "start_time": "2022-05-12T20:31:30.627Z"
   },
   {
    "duration": 7,
    "start_time": "2022-05-12T20:31:58.585Z"
   },
   {
    "duration": 7,
    "start_time": "2022-05-12T20:32:17.665Z"
   },
   {
    "duration": 6,
    "start_time": "2022-05-12T20:32:21.033Z"
   },
   {
    "duration": 7,
    "start_time": "2022-05-12T20:32:51.451Z"
   },
   {
    "duration": 6,
    "start_time": "2022-05-12T20:32:53.626Z"
   },
   {
    "duration": 13,
    "start_time": "2022-05-12T20:33:03.844Z"
   },
   {
    "duration": 10,
    "start_time": "2022-05-12T20:33:06.005Z"
   },
   {
    "duration": 7,
    "start_time": "2022-05-12T20:33:09.872Z"
   },
   {
    "duration": 14,
    "start_time": "2022-05-12T20:33:24.045Z"
   },
   {
    "duration": 19,
    "start_time": "2022-05-12T20:33:29.312Z"
   },
   {
    "duration": 25,
    "start_time": "2022-05-12T20:33:35.640Z"
   },
   {
    "duration": 15,
    "start_time": "2022-05-12T20:33:43.994Z"
   },
   {
    "duration": 13,
    "start_time": "2022-05-12T20:33:51.924Z"
   },
   {
    "duration": 8,
    "start_time": "2022-05-12T20:33:56.684Z"
   },
   {
    "duration": 76,
    "start_time": "2022-05-12T20:34:24.733Z"
   },
   {
    "duration": 7,
    "start_time": "2022-05-12T20:34:48.516Z"
   },
   {
    "duration": 394,
    "start_time": "2022-05-12T20:35:16.956Z"
   },
   {
    "duration": 168,
    "start_time": "2022-05-12T20:35:17.352Z"
   },
   {
    "duration": 19,
    "start_time": "2022-05-12T20:35:17.521Z"
   },
   {
    "duration": 31,
    "start_time": "2022-05-12T20:35:17.542Z"
   },
   {
    "duration": 4,
    "start_time": "2022-05-12T20:35:17.575Z"
   },
   {
    "duration": 32,
    "start_time": "2022-05-12T20:35:17.580Z"
   },
   {
    "duration": 18,
    "start_time": "2022-05-12T20:35:17.614Z"
   },
   {
    "duration": 9,
    "start_time": "2022-05-12T20:35:17.635Z"
   },
   {
    "duration": 28,
    "start_time": "2022-05-12T20:35:17.645Z"
   },
   {
    "duration": 42,
    "start_time": "2022-05-12T20:35:17.677Z"
   },
   {
    "duration": 5,
    "start_time": "2022-05-12T20:35:17.721Z"
   },
   {
    "duration": 34,
    "start_time": "2022-05-12T20:35:17.727Z"
   },
   {
    "duration": 93,
    "start_time": "2022-05-12T20:35:17.763Z"
   },
   {
    "duration": 85,
    "start_time": "2022-05-12T20:35:17.858Z"
   },
   {
    "duration": 12,
    "start_time": "2022-05-12T20:35:17.945Z"
   },
   {
    "duration": 85,
    "start_time": "2022-05-12T20:35:17.959Z"
   },
   {
    "duration": 46,
    "start_time": "2022-05-12T20:35:18.046Z"
   },
   {
    "duration": 4,
    "start_time": "2022-05-12T20:35:18.106Z"
   },
   {
    "duration": 13,
    "start_time": "2022-05-12T20:35:18.112Z"
   },
   {
    "duration": 43,
    "start_time": "2022-05-12T20:35:18.127Z"
   },
   {
    "duration": 40,
    "start_time": "2022-05-12T20:35:18.172Z"
   },
   {
    "duration": 13,
    "start_time": "2022-05-12T20:35:18.214Z"
   },
   {
    "duration": 4,
    "start_time": "2022-05-12T20:35:18.229Z"
   },
   {
    "duration": 27,
    "start_time": "2022-05-12T20:35:18.234Z"
   },
   {
    "duration": 49,
    "start_time": "2022-05-12T20:35:18.263Z"
   },
   {
    "duration": 21,
    "start_time": "2022-05-12T20:35:18.314Z"
   },
   {
    "duration": 16,
    "start_time": "2022-05-12T20:35:18.337Z"
   },
   {
    "duration": 51,
    "start_time": "2022-05-12T20:35:18.357Z"
   },
   {
    "duration": 16,
    "start_time": "2022-05-12T20:35:18.410Z"
   },
   {
    "duration": 9,
    "start_time": "2022-05-12T20:35:18.428Z"
   },
   {
    "duration": 13,
    "start_time": "2022-05-12T20:35:18.439Z"
   },
   {
    "duration": 7,
    "start_time": "2022-05-12T20:35:18.454Z"
   },
   {
    "duration": 45,
    "start_time": "2022-05-12T20:35:18.463Z"
   },
   {
    "duration": 4,
    "start_time": "2022-05-12T20:35:18.510Z"
   },
   {
    "duration": 35,
    "start_time": "2022-05-12T20:35:18.516Z"
   },
   {
    "duration": 27,
    "start_time": "2022-05-12T20:35:18.553Z"
   },
   {
    "duration": 45,
    "start_time": "2022-05-12T20:35:18.582Z"
   },
   {
    "duration": 24,
    "start_time": "2022-05-12T20:35:18.629Z"
   },
   {
    "duration": 26,
    "start_time": "2022-05-12T20:35:18.655Z"
   },
   {
    "duration": 31,
    "start_time": "2022-05-12T20:35:18.682Z"
   },
   {
    "duration": 5,
    "start_time": "2022-05-12T20:35:18.715Z"
   },
   {
    "duration": 9,
    "start_time": "2022-05-12T20:35:18.722Z"
   },
   {
    "duration": 34,
    "start_time": "2022-05-12T20:36:14.427Z"
   },
   {
    "duration": 457,
    "start_time": "2022-05-12T20:40:24.480Z"
   },
   {
    "duration": 166,
    "start_time": "2022-05-12T20:40:24.940Z"
   },
   {
    "duration": 20,
    "start_time": "2022-05-12T20:40:25.108Z"
   },
   {
    "duration": 33,
    "start_time": "2022-05-12T20:40:25.130Z"
   },
   {
    "duration": 3,
    "start_time": "2022-05-12T20:40:25.166Z"
   },
   {
    "duration": 36,
    "start_time": "2022-05-12T20:40:25.171Z"
   },
   {
    "duration": 16,
    "start_time": "2022-05-12T20:40:25.209Z"
   },
   {
    "duration": 6,
    "start_time": "2022-05-12T20:40:25.227Z"
   },
   {
    "duration": 27,
    "start_time": "2022-05-12T20:40:25.235Z"
   },
   {
    "duration": 50,
    "start_time": "2022-05-12T20:40:25.264Z"
   },
   {
    "duration": 4,
    "start_time": "2022-05-12T20:40:25.315Z"
   },
   {
    "duration": 25,
    "start_time": "2022-05-12T20:40:25.321Z"
   },
   {
    "duration": 89,
    "start_time": "2022-05-12T20:40:25.348Z"
   },
   {
    "duration": 79,
    "start_time": "2022-05-12T20:40:25.441Z"
   },
   {
    "duration": 12,
    "start_time": "2022-05-12T20:40:25.521Z"
   },
   {
    "duration": 75,
    "start_time": "2022-05-12T20:40:25.535Z"
   },
   {
    "duration": 41,
    "start_time": "2022-05-12T20:40:25.612Z"
   },
   {
    "duration": 4,
    "start_time": "2022-05-12T20:40:25.654Z"
   },
   {
    "duration": 12,
    "start_time": "2022-05-12T20:40:25.659Z"
   },
   {
    "duration": 67,
    "start_time": "2022-05-12T20:40:25.673Z"
   },
   {
    "duration": 15,
    "start_time": "2022-05-12T20:40:25.741Z"
   },
   {
    "duration": 13,
    "start_time": "2022-05-12T20:40:25.758Z"
   },
   {
    "duration": 4,
    "start_time": "2022-05-12T20:40:25.772Z"
   },
   {
    "duration": 46,
    "start_time": "2022-05-12T20:40:25.778Z"
   },
   {
    "duration": 16,
    "start_time": "2022-05-12T20:40:25.826Z"
   },
   {
    "duration": 35,
    "start_time": "2022-05-12T20:40:25.844Z"
   },
   {
    "duration": 29,
    "start_time": "2022-05-12T20:40:25.880Z"
   },
   {
    "duration": 23,
    "start_time": "2022-05-12T20:40:25.910Z"
   },
   {
    "duration": 16,
    "start_time": "2022-05-12T20:40:25.934Z"
   },
   {
    "duration": 9,
    "start_time": "2022-05-12T20:40:25.952Z"
   },
   {
    "duration": 30,
    "start_time": "2022-05-12T20:40:25.978Z"
   },
   {
    "duration": 7,
    "start_time": "2022-05-12T20:40:26.010Z"
   },
   {
    "duration": 8,
    "start_time": "2022-05-12T20:40:26.019Z"
   },
   {
    "duration": 5,
    "start_time": "2022-05-12T20:40:26.030Z"
   },
   {
    "duration": 31,
    "start_time": "2022-05-12T20:40:26.037Z"
   },
   {
    "duration": 57,
    "start_time": "2022-05-12T20:40:26.070Z"
   },
   {
    "duration": 23,
    "start_time": "2022-05-12T20:40:26.129Z"
   },
   {
    "duration": 23,
    "start_time": "2022-05-12T20:40:26.154Z"
   },
   {
    "duration": 50,
    "start_time": "2022-05-12T20:40:26.179Z"
   },
   {
    "duration": 9,
    "start_time": "2022-05-12T20:40:26.231Z"
   },
   {
    "duration": 5,
    "start_time": "2022-05-12T20:40:26.245Z"
   },
   {
    "duration": 8,
    "start_time": "2022-05-12T20:40:26.252Z"
   },
   {
    "duration": 68,
    "start_time": "2022-05-12T20:40:26.261Z"
   },
   {
    "duration": 48,
    "start_time": "2022-05-13T12:02:10.048Z"
   },
   {
    "duration": 396,
    "start_time": "2022-05-13T12:02:31.506Z"
   },
   {
    "duration": 161,
    "start_time": "2022-05-13T12:02:31.904Z"
   },
   {
    "duration": 17,
    "start_time": "2022-05-13T12:02:34.192Z"
   },
   {
    "duration": 29,
    "start_time": "2022-05-13T12:02:34.211Z"
   },
   {
    "duration": 6,
    "start_time": "2022-05-13T12:02:34.242Z"
   },
   {
    "duration": 3,
    "start_time": "2022-05-13T12:02:34.489Z"
   },
   {
    "duration": 13,
    "start_time": "2022-05-13T12:02:36.588Z"
   },
   {
    "duration": 4,
    "start_time": "2022-05-13T12:02:37.806Z"
   },
   {
    "duration": 25,
    "start_time": "2022-05-13T12:02:38.583Z"
   },
   {
    "duration": 19,
    "start_time": "2022-05-13T12:02:40.301Z"
   },
   {
    "duration": 4,
    "start_time": "2022-05-13T12:03:14.979Z"
   },
   {
    "duration": 23,
    "start_time": "2022-05-13T12:03:15.976Z"
   },
   {
    "duration": 29,
    "start_time": "2022-05-13T12:03:21.433Z"
   },
   {
    "duration": 66,
    "start_time": "2022-05-13T12:03:33.004Z"
   },
   {
    "duration": 78,
    "start_time": "2022-05-13T12:04:06.940Z"
   },
   {
    "duration": 11,
    "start_time": "2022-05-13T12:04:10.593Z"
   },
   {
    "duration": 60,
    "start_time": "2022-05-13T12:05:06.573Z"
   },
   {
    "duration": 39,
    "start_time": "2022-05-13T12:05:30.276Z"
   },
   {
    "duration": 3,
    "start_time": "2022-05-13T12:05:44.989Z"
   },
   {
    "duration": 10,
    "start_time": "2022-05-13T12:05:50.288Z"
   },
   {
    "duration": 38,
    "start_time": "2022-05-13T12:05:53.188Z"
   },
   {
    "duration": 70,
    "start_time": "2022-05-13T12:11:32.086Z"
   },
   {
    "duration": 11,
    "start_time": "2022-05-13T12:11:32.941Z"
   },
   {
    "duration": 62,
    "start_time": "2022-05-13T12:11:36.032Z"
   },
   {
    "duration": 36,
    "start_time": "2022-05-13T12:11:37.406Z"
   },
   {
    "duration": 3,
    "start_time": "2022-05-13T12:11:39.186Z"
   },
   {
    "duration": 8,
    "start_time": "2022-05-13T12:11:40.550Z"
   },
   {
    "duration": 37,
    "start_time": "2022-05-13T12:11:41.599Z"
   },
   {
    "duration": 14,
    "start_time": "2022-05-13T12:11:51.339Z"
   },
   {
    "duration": 13,
    "start_time": "2022-05-13T12:12:11.614Z"
   },
   {
    "duration": 4,
    "start_time": "2022-05-13T12:12:16.145Z"
   },
   {
    "duration": 22,
    "start_time": "2022-05-13T12:12:32.033Z"
   },
   {
    "duration": 15,
    "start_time": "2022-05-13T12:12:32.614Z"
   },
   {
    "duration": 22,
    "start_time": "2022-05-13T12:12:33.151Z"
   },
   {
    "duration": 17,
    "start_time": "2022-05-13T12:12:33.611Z"
   },
   {
    "duration": 24,
    "start_time": "2022-05-13T12:12:34.028Z"
   },
   {
    "duration": 17,
    "start_time": "2022-05-13T12:12:34.416Z"
   },
   {
    "duration": 8,
    "start_time": "2022-05-13T12:12:36.704Z"
   },
   {
    "duration": 12,
    "start_time": "2022-05-13T12:13:12.931Z"
   },
   {
    "duration": 7,
    "start_time": "2022-05-13T12:13:13.401Z"
   },
   {
    "duration": 7,
    "start_time": "2022-05-13T12:13:14.296Z"
   },
   {
    "duration": 7,
    "start_time": "2022-05-13T12:15:52.126Z"
   },
   {
    "duration": 4,
    "start_time": "2022-05-13T12:15:53.053Z"
   },
   {
    "duration": 27,
    "start_time": "2022-05-13T12:15:56.138Z"
   },
   {
    "duration": 28,
    "start_time": "2022-05-13T12:15:58.326Z"
   },
   {
    "duration": 23,
    "start_time": "2022-05-13T12:15:59.579Z"
   },
   {
    "duration": 24,
    "start_time": "2022-05-13T12:16:01.085Z"
   },
   {
    "duration": 27,
    "start_time": "2022-05-13T12:16:05.728Z"
   },
   {
    "duration": 9,
    "start_time": "2022-05-13T12:16:07.012Z"
   },
   {
    "duration": 6,
    "start_time": "2022-05-13T12:17:55.611Z"
   },
   {
    "duration": 7,
    "start_time": "2022-05-13T12:17:56.838Z"
   },
   {
    "duration": 7,
    "start_time": "2022-05-13T12:18:20.746Z"
   },
   {
    "duration": 23,
    "start_time": "2022-05-13T12:18:20.755Z"
   },
   {
    "duration": 12,
    "start_time": "2022-05-13T12:19:43.207Z"
   },
   {
    "duration": 13,
    "start_time": "2022-05-13T12:19:43.903Z"
   },
   {
    "duration": 10,
    "start_time": "2022-05-13T12:20:10.515Z"
   },
   {
    "duration": 12,
    "start_time": "2022-05-13T12:20:11.256Z"
   },
   {
    "duration": 3,
    "start_time": "2022-05-13T12:20:38.234Z"
   },
   {
    "duration": 149,
    "start_time": "2022-05-13T12:20:38.506Z"
   },
   {
    "duration": 10,
    "start_time": "2022-05-13T12:20:38.753Z"
   },
   {
    "duration": 47,
    "start_time": "2022-05-13T12:20:39.167Z"
   },
   {
    "duration": 3,
    "start_time": "2022-05-13T12:20:40.186Z"
   },
   {
    "duration": 5,
    "start_time": "2022-05-13T12:20:40.582Z"
   },
   {
    "duration": 13,
    "start_time": "2022-05-13T12:20:40.916Z"
   },
   {
    "duration": 4,
    "start_time": "2022-05-13T12:20:41.328Z"
   },
   {
    "duration": 24,
    "start_time": "2022-05-13T12:20:41.622Z"
   },
   {
    "duration": 19,
    "start_time": "2022-05-13T12:20:42.158Z"
   },
   {
    "duration": 4,
    "start_time": "2022-05-13T12:20:43.675Z"
   },
   {
    "duration": 26,
    "start_time": "2022-05-13T12:20:43.981Z"
   },
   {
    "duration": 64,
    "start_time": "2022-05-13T12:20:44.289Z"
   },
   {
    "duration": 71,
    "start_time": "2022-05-13T12:20:45.417Z"
   },
   {
    "duration": 10,
    "start_time": "2022-05-13T12:20:46.536Z"
   },
   {
    "duration": 61,
    "start_time": "2022-05-13T12:20:47.869Z"
   },
   {
    "duration": 39,
    "start_time": "2022-05-13T12:20:49.182Z"
   },
   {
    "duration": 3,
    "start_time": "2022-05-13T12:20:50.895Z"
   },
   {
    "duration": 10,
    "start_time": "2022-05-13T12:20:53.223Z"
   },
   {
    "duration": 38,
    "start_time": "2022-05-13T12:20:54.476Z"
   },
   {
    "duration": 14,
    "start_time": "2022-05-13T12:20:58.364Z"
   },
   {
    "duration": 12,
    "start_time": "2022-05-13T12:21:00.471Z"
   },
   {
    "duration": 4,
    "start_time": "2022-05-13T12:21:01.742Z"
   },
   {
    "duration": 21,
    "start_time": "2022-05-13T12:21:03.958Z"
   },
   {
    "duration": 15,
    "start_time": "2022-05-13T12:21:04.372Z"
   },
   {
    "duration": 19,
    "start_time": "2022-05-13T12:21:04.725Z"
   },
   {
    "duration": 15,
    "start_time": "2022-05-13T12:21:05.145Z"
   },
   {
    "duration": 22,
    "start_time": "2022-05-13T12:21:05.882Z"
   },
   {
    "duration": 14,
    "start_time": "2022-05-13T12:21:06.525Z"
   },
   {
    "duration": 9,
    "start_time": "2022-05-13T12:21:13.619Z"
   },
   {
    "duration": 14,
    "start_time": "2022-05-13T12:21:18.383Z"
   },
   {
    "duration": 10,
    "start_time": "2022-05-13T12:21:20.156Z"
   },
   {
    "duration": 12,
    "start_time": "2022-05-13T12:21:21.529Z"
   },
   {
    "duration": 5,
    "start_time": "2022-05-13T12:21:58.828Z"
   },
   {
    "duration": 22,
    "start_time": "2022-05-13T12:22:14.773Z"
   },
   {
    "duration": 14,
    "start_time": "2022-05-13T12:22:16.451Z"
   },
   {
    "duration": 18,
    "start_time": "2022-05-13T12:22:17.337Z"
   },
   {
    "duration": 14,
    "start_time": "2022-05-13T12:22:17.972Z"
   },
   {
    "duration": 24,
    "start_time": "2022-05-13T12:22:22.942Z"
   },
   {
    "duration": 9,
    "start_time": "2022-05-13T12:22:23.839Z"
   },
   {
    "duration": 27,
    "start_time": "2022-05-13T12:24:47.403Z"
   },
   {
    "duration": 8,
    "start_time": "2022-05-13T12:24:55.119Z"
   },
   {
    "duration": 7,
    "start_time": "2022-05-13T12:25:06.530Z"
   },
   {
    "duration": 8,
    "start_time": "2022-05-13T12:25:18.921Z"
   },
   {
    "duration": 8,
    "start_time": "2022-05-13T12:26:22.275Z"
   },
   {
    "duration": 14,
    "start_time": "2022-05-13T12:27:19.879Z"
   },
   {
    "duration": 15,
    "start_time": "2022-05-13T12:27:28.676Z"
   },
   {
    "duration": 11,
    "start_time": "2022-05-13T12:27:37.565Z"
   },
   {
    "duration": 5,
    "start_time": "2022-05-13T12:27:39.305Z"
   },
   {
    "duration": 11,
    "start_time": "2022-05-13T12:28:10.241Z"
   },
   {
    "duration": 6,
    "start_time": "2022-05-13T12:28:14.619Z"
   },
   {
    "duration": 5,
    "start_time": "2022-05-13T12:28:16.338Z"
   },
   {
    "duration": 32,
    "start_time": "2022-05-13T12:28:53.748Z"
   }
  ],
  "colab": {
   "collapsed_sections": [
    "E0vqbgi9ay0H",
    "VUC88oWjTJw2"
   ],
   "name": "yandex_music_project.ipynb",
   "provenance": []
  },
  "kernelspec": {
   "display_name": "Python 3 (ipykernel)",
   "language": "python",
   "name": "python3"
  },
  "language_info": {
   "codemirror_mode": {
    "name": "ipython",
    "version": 3
   },
   "file_extension": ".py",
   "mimetype": "text/x-python",
   "name": "python",
   "nbconvert_exporter": "python",
   "pygments_lexer": "ipython3",
   "version": "3.9.12"
  },
  "toc": {
   "base_numbering": 1,
   "nav_menu": {},
   "number_sections": true,
   "sideBar": true,
   "skip_h1_title": true,
   "title_cell": "Table of Contents",
   "title_sidebar": "Contents",
   "toc_cell": false,
   "toc_position": {},
   "toc_section_display": true,
   "toc_window_display": true
  }
 },
 "nbformat": 4,
 "nbformat_minor": 1
}
